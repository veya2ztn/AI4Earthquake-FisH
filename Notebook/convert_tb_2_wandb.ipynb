{
 "cells": [
  {
   "cell_type": "code",
   "execution_count": 1,
   "id": "15959133",
   "metadata": {
    "scrolled": true
   },
   "outputs": [
    {
     "name": "stdout",
     "output_type": "stream",
     "text": [
      "/mnt/data/ai4earthquake/zhangtianning/projects/AI4Q\n"
     ]
    }
   ],
   "source": [
    "%cd ../"
   ]
  },
  {
   "cell_type": "markdown",
   "id": "ec3c085f",
   "metadata": {
    "heading_collapsed": true
   },
   "source": [
    "# tb2wandb"
   ]
  },
  {
   "cell_type": "code",
   "execution_count": 2,
   "id": "f79bdd93",
   "metadata": {
    "hidden": true
   },
   "outputs": [],
   "source": [
    "import os\n",
    "\n",
    "\n",
    "import wandb\n",
    "\n",
    "import json\n",
    "from mltool.loggingsystem import LoggingSystem\n",
    "from config.utils import print_namespace_tree, convert_namespace_tree\n",
    "import h5py\n",
    "import pandas as pd\n",
    "import tabulate\n",
    "import math\n",
    "\n",
    "from config.utils import print_namespace_tree, convert_namespace_tree, flatten_dict, retrieve_dict, build_kv_list\n",
    "from project_arguements import ProjectConfig, get_args, get_parallel_config_of_accelerator, to_dict,save"
   ]
  },
  {
   "cell_type": "code",
   "execution_count": 3,
   "id": "08733b7d",
   "metadata": {
    "code_folding": [
     0
    ],
    "hidden": true
   },
   "outputs": [],
   "source": [
    "def create_logsys(args,save_config=True):\n",
    "    local_rank = 0\n",
    "    SAVE_PATH  = args.output_dir\n",
    "    recorder_list = ['wandb_runtime']\n",
    "    use_wandb  = 'wandb_runtime' if 'wandb' in recorder_list else False\n",
    "    logsys   = LoggingSystem(local_rank==0,SAVE_PATH,seed=args.task.seed,\n",
    "                             use_wandb=use_wandb, recorder_list=recorder_list, flag='train',\n",
    "                             disable_progress_bar=False)\n",
    "    hparam_dict={}\n",
    "    metric_dict={}\n",
    "    dirname          = SAVE_PATH\n",
    "    dirname,name     = os.path.split(dirname)\n",
    "    _ = logsys.create_recorder(hparam_dict={},metric_dict={},\n",
    "                                args    = retrieve_dict(to_dict(args)),\n",
    "                                project = f\"{args.dataset_name}-{args.model.Predictor.prediction_type}\",\n",
    "                                entity  = \"szztn951357\",\n",
    "                                group   = args.model_name,\n",
    "                                job_type= None,\n",
    "                                name    = name\n",
    "                               ) \n",
    "   \n",
    "    #if local_rank == 0:print_namespace_tree(args)\n",
    "    return logsys"
   ]
  },
  {
   "cell_type": "code",
   "execution_count": null,
   "id": "da694e33",
   "metadata": {
    "hidden": true
   },
   "outputs": [],
   "source": [
    "!cat "
   ]
  },
  {
   "cell_type": "code",
   "execution_count": 11,
   "id": "1634f3c2",
   "metadata": {
    "code_folding": [],
    "hidden": true
   },
   "outputs": [
    {
     "name": "stdout",
     "output_type": "stream",
     "text": [
      "WARNING: you are using the old version config file. This will be deprecated in the future.\n",
      "Warning: some arguements are not parsed:  ['--disable_all_bias', 'False']\n"
     ]
    }
   ],
   "source": [
    "from tbparse import SummaryReader\n",
    "from project_arguements import get_args\n",
    "import wandb,json,os\n",
    "trial_path = \"checkpoints/instance.group.HH.hdf5/Goldfish.40M_A.GroupE2E/02_14_15_10-seed_20130901-d3e8/instance.group.HH.hdf5-recurrent/\"\n",
    "ROOTDIR    = os.path.dirname(trial_path.strip('/'))\n",
    "args = get_args(os.path.join(ROOTDIR,'train_config.json'),args=['--task','train','--Resource','InstanceGroup'])\n",
    "args.output_dir = ROOTDIR"
   ]
  },
  {
   "cell_type": "code",
   "execution_count": 12,
   "id": "d8b050d1",
   "metadata": {
    "hidden": true
   },
   "outputs": [],
   "source": [
    "import argparse\n",
    "import re\n",
    "import wandb \n",
    "from tbparse import SummaryReader\n",
    "import os"
   ]
  },
  {
   "cell_type": "code",
   "execution_count": 16,
   "id": "d61163aa",
   "metadata": {
    "hidden": true
   },
   "outputs": [],
   "source": [
    "from pathlib import Path"
   ]
  },
  {
   "cell_type": "code",
   "execution_count": 19,
   "id": "0198b1b0",
   "metadata": {
    "hidden": true
   },
   "outputs": [
    {
     "data": {
      "text/plain": [
       "[PosixPath('checkpoints/instance.group.HH.hdf5/Goldfish.40M_A.GroupE2E/02_14_15_10-seed_20130901-d3e8/instance.group.HH.hdf5-recurrent/events.out.tfevents.1707894657.dlcyfnll2dt2xdos-master-0.92.0')]"
      ]
     },
     "execution_count": 19,
     "metadata": {},
     "output_type": "execute_result"
    }
   ],
   "source": []
  },
  {
   "cell_type": "code",
   "execution_count": 13,
   "id": "394c8fac",
   "metadata": {
    "hidden": true
   },
   "outputs": [
    {
     "name": "stdout",
     "output_type": "stream",
     "text": [
      "checkpoints/instance.group.HH.hdf5/Goldfish.40M_A.GroupE2E/02_14_15_10-seed_20130901-d3e8/instance.group.HH.hdf5-recurrent/events.out.tfevents.1707894657.dlcyfnll2dt2xdos-master-0.92.0\n",
      "===>start parsing tensorboard..............\n"
     ]
    }
   ],
   "source": [
    "summary_dir = trial_path\n",
    "outdf = []\n",
    "for filename in os.listdir(summary_dir):\n",
    "    if 'events' not in filename:continue\n",
    "    log_dir = os.path.join(summary_dir,filename)\n",
    "    print(log_dir)\n",
    "    reader = SummaryReader(log_dir)\n",
    "    print\n",
    "    df = reader.scalars\n",
    "\n",
    "    if len(df) < 1: \n",
    "        print(f\"==>no scalars at,pass\")\n",
    "        continue\n",
    "    print(\"===>start parsing tensorboard..............\")\n",
    "    outdf.append(df)\n",
    "assert len(outdf)==1\n",
    "df = outdf[0]"
   ]
  },
  {
   "cell_type": "code",
   "execution_count": 14,
   "id": "109c0f12",
   "metadata": {
    "hidden": true
   },
   "outputs": [
    {
     "data": {
      "text/html": [
       "<div>\n",
       "<style scoped>\n",
       "    .dataframe tbody tr th:only-of-type {\n",
       "        vertical-align: middle;\n",
       "    }\n",
       "\n",
       "    .dataframe tbody tr th {\n",
       "        vertical-align: top;\n",
       "    }\n",
       "\n",
       "    .dataframe thead th {\n",
       "        text-align: right;\n",
       "    }\n",
       "</style>\n",
       "<table border=\"1\" class=\"dataframe\">\n",
       "  <thead>\n",
       "    <tr style=\"text-align: right;\">\n",
       "      <th></th>\n",
       "      <th>step</th>\n",
       "      <th>tag</th>\n",
       "      <th>value</th>\n",
       "    </tr>\n",
       "  </thead>\n",
       "  <tbody>\n",
       "    <tr>\n",
       "      <th>0</th>\n",
       "      <td>204</td>\n",
       "      <td>epoch</td>\n",
       "      <td>1.000000</td>\n",
       "    </tr>\n",
       "    <tr>\n",
       "      <th>1</th>\n",
       "      <td>204</td>\n",
       "      <td>epoch</td>\n",
       "      <td>1.000000</td>\n",
       "    </tr>\n",
       "    <tr>\n",
       "      <th>2</th>\n",
       "      <td>408</td>\n",
       "      <td>epoch</td>\n",
       "      <td>2.000000</td>\n",
       "    </tr>\n",
       "    <tr>\n",
       "      <th>3</th>\n",
       "      <td>408</td>\n",
       "      <td>epoch</td>\n",
       "      <td>2.000000</td>\n",
       "    </tr>\n",
       "    <tr>\n",
       "      <th>4</th>\n",
       "      <td>612</td>\n",
       "      <td>epoch</td>\n",
       "      <td>3.000000</td>\n",
       "    </tr>\n",
       "    <tr>\n",
       "      <th>...</th>\n",
       "      <td>...</td>\n",
       "      <td>...</td>\n",
       "      <td>...</td>\n",
       "    </tr>\n",
       "    <tr>\n",
       "      <th>8845</th>\n",
       "      <td>9384</td>\n",
       "      <td>validation/loss_gro</td>\n",
       "      <td>22.817457</td>\n",
       "    </tr>\n",
       "    <tr>\n",
       "      <th>8846</th>\n",
       "      <td>9588</td>\n",
       "      <td>validation/loss_gro</td>\n",
       "      <td>22.728607</td>\n",
       "    </tr>\n",
       "    <tr>\n",
       "      <th>8847</th>\n",
       "      <td>9792</td>\n",
       "      <td>validation/loss_gro</td>\n",
       "      <td>22.828457</td>\n",
       "    </tr>\n",
       "    <tr>\n",
       "      <th>8848</th>\n",
       "      <td>9996</td>\n",
       "      <td>validation/loss_gro</td>\n",
       "      <td>22.780415</td>\n",
       "    </tr>\n",
       "    <tr>\n",
       "      <th>8849</th>\n",
       "      <td>10200</td>\n",
       "      <td>validation/loss_gro</td>\n",
       "      <td>22.791546</td>\n",
       "    </tr>\n",
       "  </tbody>\n",
       "</table>\n",
       "<p>8850 rows × 3 columns</p>\n",
       "</div>"
      ],
      "text/plain": [
       "       step                  tag      value\n",
       "0       204                epoch   1.000000\n",
       "1       204                epoch   1.000000\n",
       "2       408                epoch   2.000000\n",
       "3       408                epoch   2.000000\n",
       "4       612                epoch   3.000000\n",
       "...     ...                  ...        ...\n",
       "8845   9384  validation/loss_gro  22.817457\n",
       "8846   9588  validation/loss_gro  22.728607\n",
       "8847   9792  validation/loss_gro  22.828457\n",
       "8848   9996  validation/loss_gro  22.780415\n",
       "8849  10200  validation/loss_gro  22.791546\n",
       "\n",
       "[8850 rows x 3 columns]"
      ]
     },
     "execution_count": 14,
     "metadata": {},
     "output_type": "execute_result"
    }
   ],
   "source": [
    "df"
   ]
  },
  {
   "cell_type": "code",
   "execution_count": 15,
   "id": "8505119b",
   "metadata": {
    "hidden": true,
    "scrolled": false
   },
   "outputs": [
    {
     "name": "stderr",
     "output_type": "stream",
     "text": [
      "\u001b[34m\u001b[1mwandb\u001b[0m: Currently logged in as: \u001b[33mtianning\u001b[0m (\u001b[33mai4quake\u001b[0m). Use \u001b[1m`wandb login --relogin`\u001b[0m to force relogin\n"
     ]
    },
    {
     "name": "stdout",
     "output_type": "stream",
     "text": [
      "log at checkpoints/instance.group.HH.hdf5/Goldfish.40M_A.GroupE2E/02_14_15_10-seed_20130901-d3e8\n",
      "key=strategy_name conflict. Can be ['task.sampling_strategy.train_sampling_strategy.strategy_name', 'task.sampling_strategy.valid_sampling_strategy.strategy_name', 'task.sampling_strategy.test_sampling_strategy.strategy_name']\n",
      "So far it should be the strategy_name/early_warning, we will use the last two:train_sampling_strategy.strategy_name\n",
      "So far it should be the strategy_name/early_warning, we will use the last two:valid_sampling_strategy.strategy_name\n",
      "So far it should be the strategy_name/early_warning, we will use the last two:test_sampling_strategy.strategy_name\n",
      "key=early_warning conflict. Can be ['task.sampling_strategy.train_sampling_strategy.early_warning', 'task.sampling_strategy.valid_sampling_strategy.early_warning', 'task.sampling_strategy.test_sampling_strategy.early_warning']\n",
      "So far it should be the strategy_name/early_warning, we will use the last two:train_sampling_strategy.early_warning\n",
      "So far it should be the strategy_name/early_warning, we will use the last two:valid_sampling_strategy.early_warning\n",
      "So far it should be the strategy_name/early_warning, we will use the last two:test_sampling_strategy.early_warning\n",
      "we will use wandb\n"
     ]
    },
    {
     "data": {
      "application/vnd.jupyter.widget-view+json": {
       "model_id": "5ba40f04220b43c6a675119dc5fae0fa",
       "version_major": 2,
       "version_minor": 0
      },
      "text/plain": [
       "VBox(children=(Label(value='Waiting for wandb.init()...\\r'), FloatProgress(value=0.016668812930583955, max=1.0…"
      ]
     },
     "metadata": {},
     "output_type": "display_data"
    },
    {
     "data": {
      "text/html": [
       "wandb version 0.16.3 is available!  To upgrade, please run:\n",
       " $ pip install wandb --upgrade"
      ],
      "text/plain": [
       "<IPython.core.display.HTML object>"
      ]
     },
     "metadata": {},
     "output_type": "display_data"
    },
    {
     "data": {
      "text/html": [
       "Tracking run with wandb version 0.15.2"
      ],
      "text/plain": [
       "<IPython.core.display.HTML object>"
      ]
     },
     "metadata": {},
     "output_type": "display_data"
    },
    {
     "data": {
      "text/html": [
       "Run data is saved locally in <code>/mnt/data/ai4earthquake/zhangtianning/projects/AI4Q/wandb/run-20240214_193152-wwy432g7</code>"
      ],
      "text/plain": [
       "<IPython.core.display.HTML object>"
      ]
     },
     "metadata": {},
     "output_type": "display_data"
    },
    {
     "data": {
      "text/html": [
       "Syncing run <strong><a href='https://wandb.ai/ai4quake/instance.group.HH.hdf5-recurrent/runs/wwy432g7' target=\"_blank\">02_14_15_10-seed_20130901-d3e8</a></strong> to <a href='https://wandb.ai/ai4quake/instance.group.HH.hdf5-recurrent' target=\"_blank\">Weights & Biases</a> (<a href='https://wandb.me/run' target=\"_blank\">docs</a>)<br/>"
      ],
      "text/plain": [
       "<IPython.core.display.HTML object>"
      ]
     },
     "metadata": {},
     "output_type": "display_data"
    },
    {
     "data": {
      "text/html": [
       " View project at <a href='https://wandb.ai/ai4quake/instance.group.HH.hdf5-recurrent' target=\"_blank\">https://wandb.ai/ai4quake/instance.group.HH.hdf5-recurrent</a>"
      ],
      "text/plain": [
       "<IPython.core.display.HTML object>"
      ]
     },
     "metadata": {},
     "output_type": "display_data"
    },
    {
     "data": {
      "text/html": [
       " View run at <a href='https://wandb.ai/ai4quake/instance.group.HH.hdf5-recurrent/runs/wwy432g7' target=\"_blank\">https://wandb.ai/ai4quake/instance.group.HH.hdf5-recurrent/runs/wwy432g7</a>"
      ],
      "text/plain": [
       "<IPython.core.display.HTML object>"
      ]
     },
     "metadata": {},
     "output_type": "display_data"
    },
    {
     "data": {
      "text/html": [
       "Waiting for W&B process to finish... <strong style=\"color:green\">(success).</strong>"
      ],
      "text/plain": [
       "<IPython.core.display.HTML object>"
      ]
     },
     "metadata": {},
     "output_type": "display_data"
    },
    {
     "data": {
      "text/html": [
       "<style>\n",
       "    table.wandb td:nth-child(1) { padding: 0 10px; text-align: left ; width: auto;} td:nth-child(2) {text-align: left ; width: 100%}\n",
       "    .wandb-row { display: flex; flex-direction: row; flex-wrap: wrap; justify-content: flex-start; width: 100% }\n",
       "    .wandb-col { display: flex; flex-direction: column; flex-basis: 100%; flex: 1; padding: 10px; }\n",
       "    </style>\n",
       "<div class=\"wandb-row\"><div class=\"wandb-col\"><h3>Run history:</h3><br/><table class=\"wandb\"><tr><td>epoch</td><td>▁▁▁▁▂▂▂▂▂▃▃▃▃▃▃▄▄▄▄▄▅▅▅▅▅▅▆▆▆▆▆▆▇▇▇▇▇███</td></tr><tr><td>step</td><td>▁▁▁▁▂▂▂▂▂▃▃▃▃▃▃▄▄▄▄▄▅▅▅▅▅▅▆▆▆▆▆▆▇▇▇▇▇███</td></tr><tr><td>train/loss</td><td>█▁▁▁▁▁▁▁▁▁▁▁▁▁▁▁▁▁▁▁▁▁▁▁▁▁▁▁▁▁▁▁▁▁▁▁▁▁▁▁</td></tr><tr><td>train/lr</td><td>▁▂▃▃▅▆▆▇████▇▇▇▇▆▆▆▅▅▅▄▄▄▃▃▃▃▂▂▂▂▂▁▁▁▁▁▁</td></tr><tr><td>validation/e_group_vector</td><td>█▂▁▁▁▁▁▁▁▁▁▁▁▁▁▁▁▁▁▁▁▁▁▁▁▁▁▁▁▁▁▁▁▁▁▁▁▁▁▁</td></tr><tr><td>validation/loss</td><td>█▂▁▁▁▁▁▁▁▁▁▁▁▁▁▁▁▁▁▁▁▁▁▁▁▁▁▁▁▁▁▁▁▁▁▁▁▁▁▁</td></tr><tr><td>validation/loss_gro</td><td>█▂▁▁▁▁▁▁▁▁▁▁▁▁▁▁▁▁▁▁▁▁▁▁▁▁▁▁▁▁▁▁▁▁▁▁▁▁▁▁</td></tr></table><br/></div><div class=\"wandb-col\"><h3>Run summary:</h3><br/><table class=\"wandb\"><tr><td>epoch</td><td>50.0</td></tr><tr><td>step</td><td>10200</td></tr><tr><td>train/loss</td><td>22.67693</td></tr><tr><td>train/lr</td><td>1e-05</td></tr><tr><td>validation/e_group_vector</td><td>14.47968</td></tr><tr><td>validation/loss</td><td>22.79155</td></tr><tr><td>validation/loss_gro</td><td>22.79155</td></tr></table><br/></div></div>"
      ],
      "text/plain": [
       "<IPython.core.display.HTML object>"
      ]
     },
     "metadata": {},
     "output_type": "display_data"
    },
    {
     "data": {
      "text/html": [
       " View run <strong style=\"color:#cdcd00\">02_14_15_10-seed_20130901-d3e8</strong> at: <a href='https://wandb.ai/ai4quake/instance.group.HH.hdf5-recurrent/runs/wwy432g7' target=\"_blank\">https://wandb.ai/ai4quake/instance.group.HH.hdf5-recurrent/runs/wwy432g7</a><br/>Synced 5 W&B file(s), 0 media file(s), 0 artifact file(s) and 0 other file(s)"
      ],
      "text/plain": [
       "<IPython.core.display.HTML object>"
      ]
     },
     "metadata": {},
     "output_type": "display_data"
    },
    {
     "data": {
      "text/html": [
       "Find logs at: <code>./wandb/run-20240214_193152-wwy432g7/logs</code>"
      ],
      "text/plain": [
       "<IPython.core.display.HTML object>"
      ]
     },
     "metadata": {},
     "output_type": "display_data"
    }
   ],
   "source": [
    "logsys = create_logsys(args, save_config=False)\n",
    "all_pool={}\n",
    "for step, tag, val in df.values:\n",
    "    if step not in all_pool:all_pool[step]={}\n",
    "    all_pool[step][tag]  =val \n",
    "\n",
    "for step, record in all_pool.items():\n",
    "    record['step'] = step\n",
    "    wandb.log(record,step =step)\n",
    "\n",
    "logsys.close()"
   ]
  },
  {
   "cell_type": "markdown",
   "id": "ec9acd7c",
   "metadata": {},
   "source": [
    "# modify wandb"
   ]
  },
  {
   "cell_type": "code",
   "execution_count": 2,
   "id": "d38a67ab",
   "metadata": {},
   "outputs": [],
   "source": [
    "import wandb\n",
    "import numpy as np\n",
    "import re\n",
    "api = wandb.Api()\n",
    "runs= api.runs('ai4quake/stead.trace.BDLEELSSO-recurrent')"
   ]
  },
  {
   "cell_type": "code",
   "execution_count": 9,
   "id": "749bf0d2",
   "metadata": {
    "code_folding": []
   },
   "outputs": [],
   "source": [
    "nickname_map = {\n",
    "    \"RetNetDecay_SignalSeaL1.512.1024.256.16.4\": 'Goldfish.10M.L1',\n",
    "    \"RetNetDecay_SignalSeaL1.512.1024.256.16.8\": 'Goldfish.20M.L1',\n",
    "\n",
    "    \"RetNetDecay_SignalSeaL1.3.512.1024.256.8\": 'Goldfish.20M.L1',\n",
    "    'RetNetDecay_SignalSeaL1.3.512.1024.256.4': 'Goldfish.10M.L1',\n",
    "\n",
    "    'RetNetDecay_SignalSea.3.512.1024.256.1': 'Goldfish.2M.Sea',\n",
    "    'RetNetDecay_SignalSea.512.1024.256.16.1': 'Goldfish.2M.Sea',\n",
    "    'RetNetDecay_SignalSea.3.512.1024.256.4': 'Goldfish.10M.Sea',\n",
    "    'RetNetDecay_SignalSea.512.1024.256.16.4': 'Goldfish.10M.Sea',\n",
    "\n",
    "    'RetNetDecay_SignalSea.3.768.512.256.1': 'Goldfish.2M_Z.Sea',\n",
    "    'RetNetDecay_SignalSeaL1.3.768.512.256.4': 'Goldfish.10M_Z.L1',\n",
    "    'RetNetDecay_SignalSea.3.768.512.256.4': 'Goldfish.10M_Z.Sea',\n",
    "    \"RetNetDecay_SignalSea.768.512.256.16.4\":'Goldfish.10M_Z.Sea',\n",
    "    \"RetNetDecay_SignalSea.768.512.256.16.1\":'Goldfish.2M_Z.Sea',\n",
    "    \"RetNetDecay_SignalSeaL1.768.512.256.16.4\":'Goldfish.10M_Z.L1',\n",
    "\n",
    "    \"RetNetDecay_ReLU.3.512.1024.256.4\":'Goldfish.ReLU.10M',\n",
    "    \"RetNetDecay_NoBias.3.512.1024.256.4\":'Goldbird.10M',\n",
    "    \"Goldfish.85M_B.L1\":\"Goldfish.85M_B.L1\",\n",
    "    \"Goldfish.10M.L1\":\"Goldfish.10M.L1\",\n",
    "    \"Goldfish.10M.Sea\":\"Goldfish.10M.Sea\",\n",
    "    'FlatfishS10M':'Flatfish.10M.Sea',\n",
    "    'Flatfish.10M.A':'Flatfish.10M_A',\n",
    "    'Flatfish.10M.Sea':'Flatfish.10M.Sea',\n",
    "    'Goldfish.85M_B.Sea':'Goldfish.85M_B.Sea',\n",
    "    'Flatfish.10M.L1':'Flatfish.10M.L1',\n",
    "    'Sea': \"Goldfish.10M.Sea\",\n",
    "    'L1': \"Goldfish.10M.L1\",\n",
    "    \n",
    "}"
   ]
  },
  {
   "cell_type": "code",
   "execution_count": 3,
   "id": "994f6aab",
   "metadata": {
    "code_folding": [],
    "scrolled": true
   },
   "outputs": [],
   "source": [
    "# groups=[]\n",
    "# key = 'task.sampling_strategy.train_sampling_strategy.strategy_name'\n",
    "# for run in runs:\n",
    "#     if key in run.config and run.config[key] is not None:\n",
    "#         print(run.config[key])\n",
    "#         continue\n",
    "#     if run.config['warning_window'] == -4:\n",
    "#         run.config[key] = 'random_sample_in_ahead_L_to_p'\n",
    "#         run.update()\n",
    "#     else:\n",
    "#         print(run.config['warning_window'])"
   ]
  },
  {
   "cell_type": "code",
   "execution_count": 4,
   "id": "0b79070a",
   "metadata": {},
   "outputs": [],
   "source": [
    "for run in runs:\n",
    "    if run.state == 'running':continue\n",
    "    if 'use_confidence' not in run.config:\n",
    "        run.config['use_confidence']='whole_sequence'\n",
    "        run.update()\n",
    "    if run.config['use_confidence'] is None:\n",
    "        run.config['use_confidence']='whole_sequence'\n",
    "        run.update()"
   ]
  },
  {
   "cell_type": "code",
   "execution_count": 10,
   "id": "fb2ee685",
   "metadata": {},
   "outputs": [],
   "source": [
    "groups=[]\n",
    "for run in runs:\n",
    "    if run.state == 'running':continue\n",
    "    if run.config['nickname']=='Sea':\n",
    "        run.config['nickname'] = \"Goldfish.10M.Sea\"\n",
    "        run.update()"
   ]
  },
  {
   "cell_type": "code",
   "execution_count": 5,
   "id": "2dc07ac7",
   "metadata": {},
   "outputs": [],
   "source": [
    "groups=[]\n",
    "for run in runs:\n",
    "    if run.state == 'running':continue\n",
    "\n",
    "    if 'nickname' in run.config and run.config['nickname'] is not None and run.config['nickname'] != \"\":\n",
    "        #print(run.config['nickname'])\n",
    "        continue\n",
    "    if run.group not in nickname_map:\n",
    "        print(run.group,run.name)\n",
    "        continue\n",
    "    run.config['nickname'] = nickname_map[run.group]\n",
    "    run.update()"
   ]
  },
  {
   "cell_type": "code",
   "execution_count": 6,
   "id": "f6f2ee59",
   "metadata": {
    "code_folding": [],
    "scrolled": true
   },
   "outputs": [
    {
     "name": "stdout",
     "output_type": "stream",
     "text": [
      "xo3j3sxs\n",
      "rohh7eug\n",
      "8afydj0y\n",
      "q3txq751\n",
      "nt2xmn5a\n",
      "eis31e9a\n",
      "pnmt2xk6\n",
      "jp1czm31\n",
      "b9s6u1kx\n",
      "7ovuangk\n",
      "e44sjlir\n",
      "uig31s8i\n",
      "b9cyh88d\n",
      "k7cgzw2c\n",
      "4y4huz42\n",
      "3rbymwie\n",
      "zzh1a12d\n",
      "w3q4ibll\n",
      "m5x0qbwx\n"
     ]
    }
   ],
   "source": [
    "for run in runs:\n",
    "    if run.state == 'running':continue\n",
    "    if 'report/time_base_p(second)' in run.summary or 'report_status/relaxtion(second)' in run.summary:\n",
    "        if 'train_or_infer' not in run.config or run.config['train_or_infer'] == 'train':\n",
    "            run.config['train_or_infer'] = 'infer'\n",
    "            run.update()\n",
    "            print(run.id)\n",
    "    else:\n",
    "        if 'train_or_infer' not in run.config:\n",
    "            run.config['train_or_infer'] = 'train'\n",
    "            run.update()\n",
    "            print(run.id)"
   ]
  },
  {
   "cell_type": "code",
   "execution_count": 8,
   "id": "0510d3dd",
   "metadata": {
    "code_folding": [],
    "scrolled": true
   },
   "outputs": [
    {
     "name": "stdout",
     "output_type": "stream",
     "text": [
      "checkpoints/stead.trace.BDLEELSSO_sample6000/Goldfish.85M_B.Sea/11_18_20_49-seed_21\n",
      "checkpoints/stead.trace.BDLEELSSO_sample6000/Goldfish.85M_B.Sea/11_17_02_29-seed_21\n",
      "checkpoints/stead.trace.BDLEELSSO_sample6000/RetNetDecay_SignalSea.3.768.512.256.1/first_layer_zero_space\n",
      "checkpoints/stead.trace.BDLEELSSO_sample3000/RetNetDecay_SignalSea.3.768.512.256.4/11_03_11_42-seed_21\n"
     ]
    }
   ],
   "source": [
    "# had_inference = {}\n",
    "# for run in runs:\n",
    "#     if run.state == 'running':continue\n",
    "#     if ('use_confidence' in run.config and run.config['use_confidence'] == 'status'):\n",
    "#         name = run.name\n",
    "#         if name not in had_inference:\n",
    "#             had_inference[name] = [False, run.config['output_dir']]\n",
    "#         if 'report/time_base_p(second)' in run.summary:\n",
    "#             had_inference[name][0] = True\n",
    "# for key, (had_infer, path) in had_inference.items():\n",
    "#     if not had_infer:\n",
    "#         print(path)"
   ]
  },
  {
   "cell_type": "code",
   "execution_count": 10,
   "id": "13a481d2",
   "metadata": {},
   "outputs": [
    {
     "data": {
      "text/plain": [
       "{'_wandb': {'runtime': 10550}, '_timestamp': 1698681408.9736748, 'train/loss': 0.012031388595114632, 'itering/data': 0.016445517539978027, 'itering/model': 0.40226638317108154, 'validation/loss_sta': 0.16447711813038793, 'epoch': 100, 'itering/a_status': 0.9917168021202089, 'itering/loss_sta': 0.0164794921875, 'validation/a_status': 0.9674846653280588, '_runtime': 10555.143421888351, 'validation/loss': 0.16447711813038793, 'train/lr': 1.0244252618962858e-05, 'itering/loss': 0.012082751520079187, '_step': 22900}"
      ]
     },
     "execution_count": 10,
     "metadata": {},
     "output_type": "execute_result"
    }
   ],
   "source": [
    "run.summary"
   ]
  },
  {
   "cell_type": "code",
   "execution_count": 8,
   "id": "8b20ab5c",
   "metadata": {},
   "outputs": [
    {
     "name": "stdout",
     "output_type": "stream",
     "text": [
      "checkpoints/stead.trace.BDLEELSSO_sample6000/Sea/11_30_10_52-seed_21 \\\n",
      "checkpoints/stead.trace.BDLEELSSO_sample6000/Goldfish.10M.ReLU.Sea/11_30_10_52-seed_21 \\\n"
     ]
    }
   ],
   "source": [
    "import os\n",
    "name_pool  = {}\n",
    "for run in runs:\n",
    "    if run.state == 'running':continue\n",
    "    if 'downstream_task' not in run.config:\n",
    "        continue\n",
    "    if run.config['downstream_task'] != 'mse_xyS':continue\n",
    "    ouput_dir = run.config['output_dir']\n",
    "    if ouput_dir not in name_pool:name_pool[ouput_dir]=0\n",
    "    if run.config['train_or_infer'] != 'train':\n",
    "        if 'report/time_base_p(second)' not in run.summary:continue\n",
    "        #if 'max_inference_length' not in name_pool[ouput_dir]:name_pool[ouput_dir]['max_inference_length'] = 0\n",
    "        name_pool[ouput_dir] = max(run.summary['report/time_base_p(second)'],name_pool[ouput_dir] )\n",
    "for ouput_dir, max_inference_length in name_pool.items():\n",
    "    if max_inference_length<60:\n",
    "        if os.path.exists(os.path.join(ouput_dir,'pytorch_model.bin')):\n",
    "            pass\n",
    "            print(ouput_dir,\"\\\\\")\n",
    "        else:\n",
    "            pass\n",
    "            #print(p['train'][0])"
   ]
  },
  {
   "cell_type": "code",
   "execution_count": 4,
   "id": "e2b33cbc",
   "metadata": {},
   "outputs": [],
   "source": [
    "import os\n",
    "name_pool  = {}\n",
    "for run in runs:\n",
    "    if run.state == 'running':continue\n",
    "    if 'downstream_task' not in run.config:\n",
    "        raise\n",
    "    if run.config['downstream_task'] == 'status':continue\n",
    "    if run.name not in name_pool:name_pool[run.name]={}\n",
    "    if run.config['train_or_infer'] not in name_pool[run.name]:name_pool[run.name][run.config['train_or_infer']]=[]\n",
    "    name_pool[run.name][run.config['train_or_infer']].append(run.config['output_dir'])\n",
    "\n",
    "for name, p in name_pool.items():\n",
    "    if 'train' not in p:continue\n",
    "    if len(p) <2:\n",
    "        if os.path.exists(p['train'][0]):\n",
    "            pass\n",
    "            #print(p['train'][0])\n",
    "        else:\n",
    "            pass\n",
    "            print(p['train'][0])"
   ]
  },
  {
   "cell_type": "code",
   "execution_count": 5,
   "id": "92d8549e",
   "metadata": {
    "code_folding": []
   },
   "outputs": [],
   "source": [
    "training_sampling_range_pool = {}\n",
    "for run in runs:\n",
    "    if run.state == 'running':continue\n",
    "    name = run.name\n",
    "    if run.config['train_or_infer'] == 'train':\n",
    "        if 'train_sampling_strategy.strategy_name' in run.config and run.config['train_sampling_strategy.strategy_name']:\n",
    "            if run.config['train_sampling_strategy.strategy_name'] in ['random_sample_in_ahead_L_to_p']:\n",
    "                training_sampling_range = (-run.config['max_length'], 0, run.config['max_length'])\n",
    "            elif run.config['train_sampling_strategy.strategy_name'] in ['random_sample_before_p_in_warning_window']:\n",
    "                assert run.config['train_sampling_strategy.early_warning'] is not None\n",
    "                training_sampling_range = (-run.config['train_sampling_strategy.early_warning'], 0, run.config['max_length'])\n",
    "            else:\n",
    "                print(run.config['train_sampling_strategy.strategy_name'])\n",
    "                continue\n",
    "        else:\n",
    "            if 'warning_window' in run.config and run.config['warning_window']:\n",
    "                if run.config['warning_window'] == -4:\n",
    "                    start_sampling_pos_base_on_p = -run.config['max_length']\n",
    "                    end_smapling_pos_base_on_p   = 0\n",
    "                    training_sampling_range = (start_sampling_pos_base_on_p, end_smapling_pos_base_on_p,run.config['max_length'])\n",
    "                    \n",
    "            else:\n",
    "                continue\n",
    "        training_sampling_range_pool[run.name] = training_sampling_range"
   ]
  },
  {
   "cell_type": "code",
   "execution_count": 6,
   "id": "bbc5ecf5",
   "metadata": {
    "code_folding": []
   },
   "outputs": [],
   "source": [
    "for run in runs:\n",
    "    if run.state == 'running':continue\n",
    "    if 'train_on' in run.config and run.config['train_on']:continue\n",
    "    if run.name in training_sampling_range_pool:\n",
    "        a = training_sampling_range_pool[run.name]\n",
    "        run.config['train_on'] = f\"({a[0]}, {a[1]}, {a[2]})\"\n",
    "        run.update()\n",
    "        print(run.name)"
   ]
  },
  {
   "cell_type": "code",
   "execution_count": 5,
   "id": "b63c34ab",
   "metadata": {},
   "outputs": [],
   "source": [
    "for run in runs:\n",
    "    if run.state == 'running':continue\n",
    "    if 'train_on' in run.config:\n",
    "        \n",
    "        a = run.config['train_on'].strip('()').split(',')\n",
    "        if a[1][0] == \" \":\n",
    "            continue\n",
    "        \n",
    "        #if a[0] == '(' and a[-1] == ')':continue\n",
    "        run.config['train_on'] = f\"({a[0]}, {a[1]}, {a[2]})\"\n",
    "        run.update()\n"
   ]
  },
  {
   "cell_type": "code",
   "execution_count": 31,
   "id": "81545f3c",
   "metadata": {
    "code_folding": []
   },
   "outputs": [],
   "source": [
    "def findkey(path,key = 'parallel_config.num_processes'):\n",
    "    with open(path,'r') as f:\n",
    "        for line in f:\n",
    "            # Check if the line starts with the key\n",
    "            if line.startswith(key):\n",
    "                # Split the line at the colon and strip whitespace to get the value\n",
    "                value = line.split(':')[1].strip()\n",
    "                return value"
   ]
  },
  {
   "cell_type": "code",
   "execution_count": 9,
   "id": "d9768ca9",
   "metadata": {
    "code_folding": [
     9,
     11
    ]
   },
   "outputs": [
    {
     "ename": "NameError",
     "evalue": "name 'glob' is not defined",
     "output_type": "error",
     "traceback": [
      "\u001b[0;31m---------------------------------------------------------------------------\u001b[0m",
      "\u001b[0;31mNameError\u001b[0m                                 Traceback (most recent call last)",
      "Cell \u001b[0;32mIn[9], line 15\u001b[0m\n\u001b[1;32m     13\u001b[0m project_dir \u001b[38;5;241m=\u001b[39m run\u001b[38;5;241m.\u001b[39mconfig[\u001b[38;5;124m'\u001b[39m\u001b[38;5;124moutput_dir\u001b[39m\u001b[38;5;124m'\u001b[39m]\n\u001b[1;32m     14\u001b[0m \u001b[38;5;28;01mif\u001b[39;00m os\u001b[38;5;241m.\u001b[39mpath\u001b[38;5;241m.\u001b[39mexists(project_dir):\n\u001b[0;32m---> 15\u001b[0m     matching_paths \u001b[38;5;241m=\u001b[39m \u001b[43mglob\u001b[49m\u001b[38;5;241m.\u001b[39mglob(\u001b[38;5;124mf\u001b[39m\u001b[38;5;124m'\u001b[39m\u001b[38;5;132;01m{\u001b[39;00mproject_dir\u001b[38;5;132;01m}\u001b[39;00m\u001b[38;5;124m/**/hparams.yml\u001b[39m\u001b[38;5;124m'\u001b[39m, recursive\u001b[38;5;241m=\u001b[39m\u001b[38;5;28;01mTrue\u001b[39;00m)\n\u001b[1;32m     16\u001b[0m     \u001b[38;5;28;01mif\u001b[39;00m \u001b[38;5;28mlen\u001b[39m(matching_paths)\u001b[38;5;241m>\u001b[39m\u001b[38;5;241m1\u001b[39m:\n\u001b[1;32m     17\u001b[0m         \u001b[38;5;28mprint\u001b[39m(\u001b[38;5;124mf\u001b[39m\u001b[38;5;124m\"\u001b[39m\u001b[38;5;124mmultiple hparam files, check \u001b[39m\u001b[38;5;132;01m{\u001b[39;00mproject_dir\u001b[38;5;132;01m}\u001b[39;00m\u001b[38;5;124m\"\u001b[39m)\n",
      "\u001b[0;31mNameError\u001b[0m: name 'glob' is not defined"
     ]
    }
   ],
   "source": [
    "import os\n",
    "import glob\n",
    "true_train_batchsize_pool = {}\n",
    "for run in runs:\n",
    "    if run.state == 'running':continue\n",
    "    name = run.name\n",
    "\n",
    "    if run.config['train_or_infer'] == 'train':\n",
    "        if 'num_processes' not in run.config:\n",
    "            if 'parallel_config' in run.config:\n",
    "                num_processes =run.config['parallel_config']['num_processes']\n",
    "            else:\n",
    "                if 'output_dir' not in run.config:continue\n",
    "                project_dir = run.config['output_dir']\n",
    "                if os.path.exists(project_dir):\n",
    "                    matching_paths = glob.glob(f'{project_dir}/**/hparams.yml', recursive=True)\n",
    "                    if len(matching_paths)>1:\n",
    "                        print(f\"multiple hparam files, check {project_dir}\")\n",
    "                        continue\n",
    "                    matching_paths=matching_paths[0]\n",
    "                    num_processes = int(findkey(matching_paths))\n",
    "                    if num_processes == 1:\n",
    "                        print(run.config['output_dir'],num_processes)\n",
    "                        continue\n",
    "\n",
    "                else:\n",
    "                    if name in ['11_15_12_43-seed_21', '11_15_21_47-seed_21']:\n",
    "                        num_processes = 8\n",
    "                    else:\n",
    "                        print(f\"not in this server: {run.config['output_dir']}\")\n",
    "                        continue\n",
    "        else:\n",
    "            num_processes = run.config['num_processes']\n",
    "        true_batchsize = num_processes * run.config['batch_size'] * run.config['gradient_accumulation_steps']\n",
    "        true_train_batchsize_pool[run.name] = true_batchsize\n",
    "\n",
    "for run in runs:\n",
    "    if run.state == 'running':continue\n",
    "    if 'true_batchsize' in run.config:continue\n",
    "    if run.name in true_train_batchsize_pool:\n",
    "        run.config['true_batchsize'] = true_train_batchsize_pool[run.name]\n",
    "        run.update()\n",
    "        print(run.id)"
   ]
  },
  {
   "cell_type": "code",
   "execution_count": 51,
   "id": "486fa845",
   "metadata": {},
   "outputs": [],
   "source": [
    "for run in runs:\n",
    "    if run.state == 'running':continue\n",
    "    if 'true_batchsize' in run.config:\n",
    "        if 'trained_batch_size' in run.config:continue\n",
    "        run.config['trained_batch_size'] = run.config['true_batchsize']\n",
    "        run.update()"
   ]
  },
  {
   "cell_type": "code",
   "execution_count": 6,
   "id": "1cf6ea68",
   "metadata": {},
   "outputs": [],
   "source": [
    "for run in runs:\n",
    "    if run.state == 'running':continue\n",
    "    if run.config['train_or_infer'] == 'train':continue\n",
    "    if run.name in training_sampling_range_pool:\n",
    "        run.config['train_on'] = training_sampling_range_pool[run.name]\n",
    "        run.update()"
   ]
  },
  {
   "cell_type": "code",
   "execution_count": 7,
   "id": "c36894a4",
   "metadata": {},
   "outputs": [],
   "source": [
    "import json\n",
    "with open('checkpoints/stead.trace.BDLEELSSO_sample6000/RetNetDecay_SignalSea.3.512.1024.256.4/11_02_12_42-seed_21/train_config.json','r') as f:\n",
    "    config = json.load(f)"
   ]
  },
  {
   "cell_type": "code",
   "execution_count": 18,
   "id": "b6fa3e4d",
   "metadata": {},
   "outputs": [],
   "source": [
    "run1_config = {}\n",
    "for key,val in run2.config.items():\n",
    "    if key not in config:\n",
    "        run1_config[key] = val\n",
    "    else:\n",
    "        run1_config[key] = config[key]"
   ]
  },
  {
   "cell_type": "code",
   "execution_count": 19,
   "id": "c7148300",
   "metadata": {},
   "outputs": [
    {
     "data": {
      "text/plain": [
       "'status'"
      ]
     },
     "execution_count": 19,
     "metadata": {},
     "output_type": "execute_result"
    }
   ],
   "source": [
    "run1_config['use_confidence']"
   ]
  },
  {
   "cell_type": "code",
   "execution_count": 20,
   "id": "48c1a808",
   "metadata": {},
   "outputs": [],
   "source": [
    "run1.config = run1_config\n",
    "run1.update()"
   ]
  },
  {
   "cell_type": "markdown",
   "id": "2a2934fb",
   "metadata": {},
   "source": [
    "# Add Sweep Parameter"
   ]
  },
  {
   "cell_type": "code",
   "execution_count": 2,
   "id": "94d20357",
   "metadata": {},
   "outputs": [],
   "source": [
    "import wandb\n",
    "import numpy as np\n",
    "import re\n",
    "api = wandb.Api()\n",
    "runs= api.runs('ai4quake/diting.tiny.trace.hdf5-recurrent')"
   ]
  },
  {
   "cell_type": "code",
   "execution_count": 3,
   "id": "d16443bd",
   "metadata": {},
   "outputs": [],
   "source": [
    "for run in runs:\n",
    "    if run.state == 'running':continue\n",
    "    break"
   ]
  },
  {
   "cell_type": "code",
   "execution_count": 4,
   "id": "8660567b",
   "metadata": {},
   "outputs": [
    {
     "data": {
      "text/plain": [
       "{'itering/e_y': 28, 'itering/loss_y': 1200, '_runtime': 28.196041584014893, 'itering/loss': 3493.3333333333335, 'itering/e_shift': 35, '_step': 24, '_wandb': {'runtime': 23}, 'itering/e_x': 16.875, 'itering/a_status': 0.6254392266273499, 'itering/e_distance': 34.25, 'itering/loss_scilence': 1.625, '_timestamp': 1702101304.5870705, 'itering/data': 0.0008623600006103516, 'itering/model': 0.24268198013305664, 'itering/loss_x': 444, 'itering/loss_sta': 0.984375, 'itering/loss_active': 0.0830078125}"
      ]
     },
     "execution_count": 4,
     "metadata": {},
     "output_type": "execute_result"
    }
   ],
   "source": [
    "run.summary"
   ]
  }
 ],
 "metadata": {
  "kernelspec": {
   "display_name": "Python 3 (ipykernel)",
   "language": "python",
   "name": "python3"
  },
  "language_info": {
   "codemirror_mode": {
    "name": "ipython",
    "version": 3
   },
   "file_extension": ".py",
   "mimetype": "text/x-python",
   "name": "python",
   "nbconvert_exporter": "python",
   "pygments_lexer": "ipython3",
   "version": "3.9.15"
  },
  "toc": {
   "base_numbering": 1,
   "nav_menu": {},
   "number_sections": true,
   "sideBar": true,
   "skip_h1_title": false,
   "title_cell": "Table of Contents",
   "title_sidebar": "Contents",
   "toc_cell": false,
   "toc_position": {},
   "toc_section_display": true,
   "toc_window_display": false
  }
 },
 "nbformat": 4,
 "nbformat_minor": 5
}
