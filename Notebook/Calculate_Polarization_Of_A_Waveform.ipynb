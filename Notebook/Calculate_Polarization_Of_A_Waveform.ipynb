{
 "cells": [
  {
   "cell_type": "code",
   "execution_count": 3,
   "id": "78323ac6",
   "metadata": {},
   "outputs": [],
   "source": [
    "from obspy.clients.fdsn import Client\n",
    "client = Client(\"IRIS\")"
   ]
  },
  {
   "cell_type": "code",
   "execution_count": 4,
   "id": "2fb4dc71",
   "metadata": {},
   "outputs": [
    {
     "ename": "FDSNTimeoutException",
     "evalue": "Timed Out",
     "output_type": "error",
     "traceback": [
      "\u001b[0;31m---------------------------------------------------------------------------\u001b[0m",
      "\u001b[0;31mFDSNTimeoutException\u001b[0m                      Traceback (most recent call last)",
      "Cell \u001b[0;32mIn[4], line 3\u001b[0m\n\u001b[1;32m      1\u001b[0m \u001b[38;5;28;01mfrom\u001b[39;00m \u001b[38;5;21;01mobspy\u001b[39;00m \u001b[38;5;28;01mimport\u001b[39;00m UTCDateTime\n\u001b[1;32m      2\u001b[0m t \u001b[38;5;241m=\u001b[39m UTCDateTime(\u001b[38;5;124m\"\u001b[39m\u001b[38;5;124m2010-02-27T06:45:00.000\u001b[39m\u001b[38;5;124m\"\u001b[39m)\n\u001b[0;32m----> 3\u001b[0m st \u001b[38;5;241m=\u001b[39m \u001b[43mclient\u001b[49m\u001b[38;5;241;43m.\u001b[39;49m\u001b[43mget_waveforms\u001b[49m\u001b[43m(\u001b[49m\u001b[38;5;124;43m\"\u001b[39;49m\u001b[38;5;124;43mIU\u001b[39;49m\u001b[38;5;124;43m\"\u001b[39;49m\u001b[43m,\u001b[49m\u001b[43m \u001b[49m\u001b[38;5;124;43m\"\u001b[39;49m\u001b[38;5;124;43mANMO\u001b[39;49m\u001b[38;5;124;43m\"\u001b[39;49m\u001b[43m,\u001b[49m\u001b[43m \u001b[49m\u001b[38;5;124;43m\"\u001b[39;49m\u001b[38;5;124;43m00\u001b[39;49m\u001b[38;5;124;43m\"\u001b[39;49m\u001b[43m,\u001b[49m\u001b[43m \u001b[49m\u001b[38;5;124;43m\"\u001b[39;49m\u001b[38;5;124;43mLHZ\u001b[39;49m\u001b[38;5;124;43m\"\u001b[39;49m\u001b[43m,\u001b[49m\u001b[43m \u001b[49m\u001b[43mt\u001b[49m\u001b[43m,\u001b[49m\u001b[43m \u001b[49m\u001b[43mt\u001b[49m\u001b[43m \u001b[49m\u001b[38;5;241;43m+\u001b[39;49m\u001b[43m \u001b[49m\u001b[38;5;241;43m60\u001b[39;49m\u001b[43m \u001b[49m\u001b[38;5;241;43m*\u001b[39;49m\u001b[43m \u001b[49m\u001b[38;5;241;43m60\u001b[39;49m\u001b[43m)\u001b[49m\n\u001b[1;32m      4\u001b[0m st\u001b[38;5;241m.\u001b[39mplot()  \n",
      "File \u001b[0;32m~/localconda/envs/local/lib/python3.9/site-packages/obspy/clients/fdsn/client.py:872\u001b[0m, in \u001b[0;36mClient.get_waveforms\u001b[0;34m(self, network, station, location, channel, starttime, endtime, quality, minimumlength, longestonly, filename, attach_response, **kwargs)\u001b[0m\n\u001b[1;32m    867\u001b[0m url \u001b[38;5;241m=\u001b[39m \u001b[38;5;28mself\u001b[39m\u001b[38;5;241m.\u001b[39m_create_url_from_parameters(\n\u001b[1;32m    868\u001b[0m     \u001b[38;5;124m\"\u001b[39m\u001b[38;5;124mdataselect\u001b[39m\u001b[38;5;124m\"\u001b[39m, DEFAULT_PARAMETERS[\u001b[38;5;124m'\u001b[39m\u001b[38;5;124mdataselect\u001b[39m\u001b[38;5;124m'\u001b[39m], kwargs)\n\u001b[1;32m    870\u001b[0m \u001b[38;5;66;03m# Gzip not worth it for MiniSEED and most likely disabled for this\u001b[39;00m\n\u001b[1;32m    871\u001b[0m \u001b[38;5;66;03m# route in any case.\u001b[39;00m\n\u001b[0;32m--> 872\u001b[0m data_stream \u001b[38;5;241m=\u001b[39m \u001b[38;5;28;43mself\u001b[39;49m\u001b[38;5;241;43m.\u001b[39;49m\u001b[43m_download\u001b[49m\u001b[43m(\u001b[49m\u001b[43murl\u001b[49m\u001b[43m,\u001b[49m\u001b[43m \u001b[49m\u001b[43muse_gzip\u001b[49m\u001b[38;5;241;43m=\u001b[39;49m\u001b[38;5;28;43;01mFalse\u001b[39;49;00m\u001b[43m)\u001b[49m\n\u001b[1;32m    873\u001b[0m data_stream\u001b[38;5;241m.\u001b[39mseek(\u001b[38;5;241m0\u001b[39m, \u001b[38;5;241m0\u001b[39m)\n\u001b[1;32m    874\u001b[0m \u001b[38;5;28;01mif\u001b[39;00m filename:\n",
      "File \u001b[0;32m~/localconda/envs/local/lib/python3.9/site-packages/obspy/clients/fdsn/client.py:1486\u001b[0m, in \u001b[0;36mClient._download\u001b[0;34m(self, url, return_string, data, use_gzip, content_type)\u001b[0m\n\u001b[1;32m   1481\u001b[0m     headers[\u001b[38;5;124m'\u001b[39m\u001b[38;5;124mContent-Type\u001b[39m\u001b[38;5;124m'\u001b[39m] \u001b[38;5;241m=\u001b[39m content_type\n\u001b[1;32m   1482\u001b[0m code, data \u001b[38;5;241m=\u001b[39m download_url(\n\u001b[1;32m   1483\u001b[0m     url, opener\u001b[38;5;241m=\u001b[39m\u001b[38;5;28mself\u001b[39m\u001b[38;5;241m.\u001b[39m_url_opener, headers\u001b[38;5;241m=\u001b[39mheaders,\n\u001b[1;32m   1484\u001b[0m     debug\u001b[38;5;241m=\u001b[39m\u001b[38;5;28mself\u001b[39m\u001b[38;5;241m.\u001b[39mdebug, return_string\u001b[38;5;241m=\u001b[39mreturn_string, data\u001b[38;5;241m=\u001b[39mdata,\n\u001b[1;32m   1485\u001b[0m     timeout\u001b[38;5;241m=\u001b[39m\u001b[38;5;28mself\u001b[39m\u001b[38;5;241m.\u001b[39mtimeout, use_gzip\u001b[38;5;241m=\u001b[39muse_gzip)\n\u001b[0;32m-> 1486\u001b[0m \u001b[43mraise_on_error\u001b[49m\u001b[43m(\u001b[49m\u001b[43mcode\u001b[49m\u001b[43m,\u001b[49m\u001b[43m \u001b[49m\u001b[43mdata\u001b[49m\u001b[43m)\u001b[49m\n\u001b[1;32m   1487\u001b[0m \u001b[38;5;28;01mreturn\u001b[39;00m data\n",
      "File \u001b[0;32m~/localconda/envs/local/lib/python3.9/site-packages/obspy/clients/fdsn/client.py:1854\u001b[0m, in \u001b[0;36mraise_on_error\u001b[0;34m(code, data)\u001b[0m\n\u001b[1;32m   1852\u001b[0m \u001b[38;5;28;01melif\u001b[39;00m code \u001b[38;5;129;01mis\u001b[39;00m \u001b[38;5;28;01mNone\u001b[39;00m:\n\u001b[1;32m   1853\u001b[0m     \u001b[38;5;28;01mif\u001b[39;00m \u001b[38;5;124m\"\u001b[39m\u001b[38;5;124mtimeout\u001b[39m\u001b[38;5;124m\"\u001b[39m \u001b[38;5;129;01min\u001b[39;00m \u001b[38;5;28mstr\u001b[39m(data)\u001b[38;5;241m.\u001b[39mlower() \u001b[38;5;129;01mor\u001b[39;00m \u001b[38;5;124m\"\u001b[39m\u001b[38;5;124mtimed out\u001b[39m\u001b[38;5;124m\"\u001b[39m \u001b[38;5;129;01min\u001b[39;00m \u001b[38;5;28mstr\u001b[39m(data)\u001b[38;5;241m.\u001b[39mlower():\n\u001b[0;32m-> 1854\u001b[0m         \u001b[38;5;28;01mraise\u001b[39;00m FDSNTimeoutException(\u001b[38;5;124m\"\u001b[39m\u001b[38;5;124mTimed Out\u001b[39m\u001b[38;5;124m\"\u001b[39m)\n\u001b[1;32m   1855\u001b[0m     \u001b[38;5;28;01melse\u001b[39;00m:\n\u001b[1;32m   1856\u001b[0m         \u001b[38;5;28;01mraise\u001b[39;00m FDSNException(\u001b[38;5;124m\"\u001b[39m\u001b[38;5;124mUnknown Error (\u001b[39m\u001b[38;5;132;01m%s\u001b[39;00m\u001b[38;5;124m): \u001b[39m\u001b[38;5;132;01m%s\u001b[39;00m\u001b[38;5;124m\"\u001b[39m \u001b[38;5;241m%\u001b[39m (\n\u001b[1;32m   1857\u001b[0m             (\u001b[38;5;28mstr\u001b[39m(data\u001b[38;5;241m.\u001b[39m\u001b[38;5;18m__class__\u001b[39m\u001b[38;5;241m.\u001b[39m\u001b[38;5;18m__name__\u001b[39m), \u001b[38;5;28mstr\u001b[39m(data))))\n",
      "\u001b[0;31mFDSNTimeoutException\u001b[0m: Timed Out"
     ]
    }
   ],
   "source": [
    "from obspy import UTCDateTime\n",
    "t = UTCDateTime(\"2010-02-27T06:45:00.000\")\n",
    "st = client.get_waveforms(\"IU\", \"ANMO\", \"00\", \"LHZ\", t, t + 60 * 60)\n",
    "st.plot()  "
   ]
  },
  {
   "cell_type": "code",
   "execution_count": 1,
   "id": "1d69d1dd",
   "metadata": {},
   "outputs": [
    {
     "name": "stdout",
     "output_type": "stream",
     "text": [
      "/mnt/data/ai4earthquake/zhangtianning/projects/AI4Q\n"
     ]
    }
   ],
   "source": [
    "%cd ../"
   ]
  },
  {
   "cell_type": "code",
   "execution_count": 2,
   "id": "8fd2c403",
   "metadata": {
    "code_folding": [
     4
    ]
   },
   "outputs": [],
   "source": [
    "from obspy.signal.polarization import *\n",
    "from obspy.signal.polarization import *\n",
    "from obspy.signal.polarization import _get_s_point\n",
    "\n",
    "def polarization_analysis(stream, win_len, win_frac, frqlow, frqhigh, stime,\n",
    "                          etime, verbose=False, method=\"pm\", var_noise=0.0,\n",
    "                          adaptive=True):\n",
    "    \"\"\"\n",
    "    Method carrying out polarization analysis with the [Flinn1965b]_,\n",
    "    [Jurkevics1988]_, ParticleMotion, or [Vidale1986]_ algorithm.\n",
    "\n",
    "    :param stream: 3 component input data.\n",
    "    :type stream: :class:`~obspy.core.stream.Stream`\n",
    "    :param win_len: Sliding window length in seconds.\n",
    "    :type win_len: float\n",
    "    :param win_frac: Fraction of sliding window to use for step.\n",
    "    :type win_frac: float\n",
    "    :param var_noise: resembles a sphere of noise in PM where the 3C is\n",
    "        excluded\n",
    "    :type var_noise: float\n",
    "    :param frqlow: lower frequency. Only used for ``method='vidale'``.\n",
    "    :type frqlow: float\n",
    "    :param frqhigh: higher frequency. Only used for ``method='vidale'``.\n",
    "    :type frqhigh: float\n",
    "    :param stime: Start time of interest\n",
    "    :type stime: :class:`obspy.core.utcdatetime.UTCDateTime`\n",
    "    :param etime: End time of interest\n",
    "    :type etime: :class:`obspy.core.utcdatetime.UTCDateTime`\n",
    "    :param method: the method to use. one of ``\"pm\"``, ``\"flinn\"`` or\n",
    "        ``\"vidale\"``.\n",
    "    :type method: str\n",
    "    :param adaptive: switch for adaptive window estimation (defaults to\n",
    "        ``True``). If set to ``False``, the window will be estimated as\n",
    "        ``3 * max(1/(fhigh-flow), 1/flow)``.\n",
    "    :type adaptive: bool\n",
    "    :rtype: dict\n",
    "    :returns: Dictionary with keys ``\"timestamp\"`` (POSIX timestamp, can be\n",
    "        used to initialize :class:`~obspy.core.utcdatetime.UTCDateTime`\n",
    "        objects), ``\"azimuth\"``, ``\"incidence\"`` (incidence angle) and\n",
    "        additional keys depending on used method: ``\"azimuth_error\"`` and\n",
    "        ``\"incidence_error\"`` (for method ``\"pm\"``), ``\"rectilinearity\"`` and\n",
    "        ``\"planarity\"`` (for methods ``\"flinn\"`` and ``\"vidale\"``) and\n",
    "        ``\"ellipticity\"`` (for method ``\"flinn\"``). Under each key a\n",
    "        :class:`~numpy.ndarray` is stored, giving the respective values\n",
    "        corresponding to the ``\"timestamp\"`` :class:`~numpy.ndarray`.\n",
    "    \"\"\"\n",
    "    if method.lower() not in [\"pm\", \"flinn\", \"vidale\"]:\n",
    "        msg = \"Invalid method ('%s')\" % method\n",
    "        raise ValueError(msg)\n",
    "\n",
    "    res = []\n",
    "\n",
    "\n",
    "    if len(stream) != 3:\n",
    "        msg = 'Input stream expected to be three components:\\n' + str(stream)\n",
    "        raise ValueError(msg)\n",
    "\n",
    "    # check that sampling rates do not vary\n",
    "    fs = stream[0].stats.sampling_rate\n",
    "    if len(stream) != len(stream.select(sampling_rate=fs)):\n",
    "        msg = \"sampling rates of traces in stream are not equal\"\n",
    "        raise ValueError(msg)\n",
    "\n",
    "    if verbose:\n",
    "        print(\"stream contains following traces:\")\n",
    "        print(stream)\n",
    "        print(\"stime = \" + str(stime) + \", etime = \" + str(etime))\n",
    "\n",
    "    spoint, _epoint = _get_s_point(stream, stime, etime)\n",
    "    if method.lower() == \"vidale\":\n",
    "        res = vidale_adapt(stream, var_noise, fs, frqlow, frqhigh, spoint,\n",
    "                           stime, etime)\n",
    "    else:\n",
    "        nsamp = int(win_len * fs)\n",
    "        nstep = int(nsamp * win_frac)\n",
    "        newstart = stime\n",
    "        tap = cosine_taper(nsamp, p=0.22)\n",
    "        offset = 0\n",
    "        while (newstart + (nsamp + nstep) / fs) <= etime+ nstep/ fs:\n",
    "            timestamp = newstart.timestamp + (float(nsamp) / 2 / fs)\n",
    "            try:\n",
    "                for i, tr in enumerate(stream):\n",
    "                    dat = tr.data[spoint[i] + offset:\n",
    "                                  spoint[i] + offset + nsamp]\n",
    "                    dat = (dat - dat.mean()) * tap\n",
    "                    if tr.stats.channel[-1].upper() == \"Z\":\n",
    "                        z = dat.copy()\n",
    "                    elif tr.stats.channel[-1].upper() == \"N\":\n",
    "                        n = dat.copy()\n",
    "                    elif tr.stats.channel[-1].upper() == \"E\":\n",
    "                        e = dat.copy()\n",
    "                    else:\n",
    "                        msg = \"Unexpected channel code '%s'\" % tr.stats.channel\n",
    "                        raise ValueError(msg)\n",
    "\n",
    "                data = [z, n, e]\n",
    "            except IndexError:\n",
    "                break\n",
    "\n",
    "            # we plot against the centre of the sliding window\n",
    "            if method.lower() == \"pm\":\n",
    "                azimuth, incidence, error_az, error_inc = \\\n",
    "                    particle_motion_odr(data, var_noise)\n",
    "                res.append(np.array([\n",
    "                    timestamp, azimuth, incidence, error_az, error_inc]))\n",
    "            if method.lower() == \"flinn\":\n",
    "                azimuth, incidence, reclin, plan = flinn(data, var_noise)\n",
    "                res.append(np.array([\n",
    "                    timestamp, azimuth, incidence, reclin, plan]))\n",
    "\n",
    "            if verbose:\n",
    "                print(newstart, newstart + float(nsamp) / fs, res[-1][1:])\n",
    "            offset += nstep\n",
    "\n",
    "            newstart += float(nstep) / fs\n",
    "\n",
    "    res = np.array(res)\n",
    "\n",
    "    result_dict = {\"timestamp\": res[:, 0],\n",
    "                   \"azimuth\": res[:, 1],\n",
    "                   \"incidence\": res[:, 2]}\n",
    "    if method.lower() == \"pm\":\n",
    "        result_dict[\"azimuth_error\"] = res[:, 3]\n",
    "        result_dict[\"incidence_error\"] = res[:, 4]\n",
    "    elif method.lower() == \"vidale\":\n",
    "        result_dict[\"rectilinearity\"] = res[:, 3]\n",
    "        result_dict[\"planarity\"] = res[:, 4]\n",
    "        result_dict[\"ellipticity\"] = res[:, 5]\n",
    "    elif method.lower() == \"flinn\":\n",
    "        result_dict[\"rectilinearity\"] = res[:, 3]\n",
    "        result_dict[\"planarity\"] = res[:, 4]\n",
    "    return result_dict"
   ]
  },
  {
   "cell_type": "code",
   "execution_count": 2,
   "id": "6aba3e60",
   "metadata": {},
   "outputs": [],
   "source": [
    "from mltool.visualization import *\n",
    "from tqdm.auto import tqdm\n",
    "\n",
    "import numpy as np\n",
    "from obspy import Stream, Trace\n",
    "from obspy.core import UTCDateTime"
   ]
  },
  {
   "cell_type": "code",
   "execution_count": 15,
   "id": "0031d034",
   "metadata": {},
   "outputs": [
    {
     "name": "stdout",
     "output_type": "stream",
     "text": [
      "please make sure the frequence for wavelet and your datasource is match, given wavelet_dt=0.02\n",
      "please make sure the wave_length for wavelet and your datasource is match, given wavelet_dt=4096\n"
     ]
    }
   ],
   "source": [
    "from model.embedding.SignalEmbedding import ContinusWaveletDecomposition\n",
    "\n",
    "import torch.nn as nn\n",
    "\n",
    "from model.embedding.EmbedderBuilder import *\n",
    "from model.embedding.embedding_config import *\n",
    "\n",
    "args = WaveletEmbeddingConfig(wave_num_scales = 1024, wave_length=4096, embedding_size=256, downsample_rate_list=\"4,4,2,2\")\n",
    "layernorm = UnitLayerNorm if args.disable_all_bias else nn.LayerNorm\n",
    "nonlinear = get_nonlinear(args)\n",
    "layernorm = nn.BatchNorm2d\n",
    "layers = []\n",
    "layers.extend([ContinusWaveletDecomposition(dt=args.wavelet_dt, dj=args.wavelet_dj, total_scale_num=args.wave_num_scales),\n",
    "               nn.LayerNorm((args.wave_num_scales, args.wave_length )),\n",
    "               AddRotaryPosition(args.wave_num_scales, args.wave_length,args.wave_channel,max_freq=16),])\n",
    "\n",
    "downsample_rate_list = [int(t) for t in args.downsample_rate_list.split(',')]\n",
    "embedding_dim_list = generate_decreasing_powers_of_2(args.wave_channel*2, args.embedding_size, len(downsample_rate_list))\n",
    "### usually, this give a tensor (B, L, D, 2) and we\n",
    "now_w = args.wave_num_scales\n",
    "now_h = args.wave_length\n",
    "for i,s in enumerate(downsample_rate_list):\n",
    "    s = int(s)\n",
    "    k = 2*s - 1\n",
    "    p = s - 1\n",
    "    now_w = now_w // s\n",
    "    now_h = now_h // s\n",
    "    layers.extend( [nn.Conv2d(embedding_dim_list[i], embedding_dim_list[i+1], kernel_size=k, stride=s, padding=p, bias=not args.disable_all_bias),\n",
    "                    nonlinear()]+ \n",
    "                    ([nn.Dropout(args.embedding_dropout)] if args.embedding_dropout > 0  else []) + \n",
    "                    [layernorm(embedding_dim_list[i+1]),\n",
    "                     AddRotaryPosition(now_w, now_h,embedding_dim_list[i+1]//2)]\n",
    "    )\n",
    "model =  nn.Sequential(*layers)\n",
    "model=model.cuda()"
   ]
  },
  {
   "cell_type": "code",
   "execution_count": 16,
   "id": "855171c4",
   "metadata": {},
   "outputs": [
    {
     "data": {
      "text/plain": [
       "Sequential(\n",
       "  (0): ContinusWaveletDecomposition()\n",
       "  (1): LayerNorm((1024, 4096), eps=1e-05, elementwise_affine=True)\n",
       "  (2): AddRotaryPosition(1024, 4096)\n",
       "  (3): Conv2d(6, 64, kernel_size=(7, 7), stride=(4, 4), padding=(3, 3))\n",
       "  (4): Tanh()\n",
       "  (5): BatchNorm2d(64, eps=1e-05, momentum=0.1, affine=True, track_running_stats=True)\n",
       "  (6): AddRotaryPosition(256, 1024)\n",
       "  (7): Conv2d(64, 128, kernel_size=(7, 7), stride=(4, 4), padding=(3, 3))\n",
       "  (8): Tanh()\n",
       "  (9): BatchNorm2d(128, eps=1e-05, momentum=0.1, affine=True, track_running_stats=True)\n",
       "  (10): AddRotaryPosition(64, 256)\n",
       "  (11): Conv2d(128, 128, kernel_size=(3, 3), stride=(2, 2), padding=(1, 1))\n",
       "  (12): Tanh()\n",
       "  (13): BatchNorm2d(128, eps=1e-05, momentum=0.1, affine=True, track_running_stats=True)\n",
       "  (14): AddRotaryPosition(32, 128)\n",
       "  (15): Conv2d(128, 256, kernel_size=(3, 3), stride=(2, 2), padding=(1, 1))\n",
       "  (16): Tanh()\n",
       "  (17): BatchNorm2d(256, eps=1e-05, momentum=0.1, affine=True, track_running_stats=True)\n",
       "  (18): AddRotaryPosition(16, 64)\n",
       ")"
      ]
     },
     "execution_count": 16,
     "metadata": {},
     "output_type": "execute_result"
    }
   ],
   "source": [
    "model"
   ]
  },
  {
   "cell_type": "code",
   "execution_count": 12,
   "id": "624b1bc6",
   "metadata": {},
   "outputs": [
    {
     "data": {
      "text/plain": [
       "torch.Size([1024, 4096, 12])"
      ]
     },
     "execution_count": 12,
     "metadata": {},
     "output_type": "execute_result"
    }
   ],
   "source": [
    "model[2].freqs.shape"
   ]
  },
  {
   "cell_type": "code",
   "execution_count": 17,
   "id": "3fb3631b",
   "metadata": {},
   "outputs": [
    {
     "data": {
      "text/plain": [
       "torch.Size([1, 6, 1024, 4096])"
      ]
     },
     "execution_count": 17,
     "metadata": {},
     "output_type": "execute_result"
    }
   ],
   "source": [
    "model[2](torch.randn(1, 6, 1024,4096).cuda()).shape"
   ]
  },
  {
   "cell_type": "code",
   "execution_count": 19,
   "id": "f8acc665",
   "metadata": {},
   "outputs": [
    {
     "data": {
      "text/plain": [
       "1024"
      ]
     },
     "execution_count": 19,
     "metadata": {},
     "output_type": "execute_result"
    }
   ],
   "source": [
    "16 * 64"
   ]
  },
  {
   "cell_type": "code",
   "execution_count": 18,
   "id": "ff7a0945",
   "metadata": {},
   "outputs": [
    {
     "name": "stdout",
     "output_type": "stream",
     "text": [
      "0 torch.Size([1, 6, 1024, 4096])\n",
      "1 torch.Size([1, 6, 1024, 4096])\n",
      "2 torch.Size([1, 6, 1024, 4096])\n",
      "3 torch.Size([1, 64, 256, 1024])\n",
      "4 torch.Size([1, 64, 256, 1024])\n",
      "5 torch.Size([1, 64, 256, 1024])\n",
      "6 torch.Size([1, 64, 256, 1024])\n",
      "7 torch.Size([1, 128, 64, 256])\n",
      "8 torch.Size([1, 128, 64, 256])\n",
      "9 torch.Size([1, 128, 64, 256])\n",
      "10 torch.Size([1, 128, 64, 256])\n",
      "11 torch.Size([1, 128, 32, 128])\n",
      "12 torch.Size([1, 128, 32, 128])\n",
      "13 torch.Size([1, 128, 32, 128])\n",
      "14 torch.Size([1, 128, 32, 128])\n",
      "15 torch.Size([1, 256, 16, 64])\n",
      "16 torch.Size([1, 256, 16, 64])\n",
      "17 torch.Size([1, 256, 16, 64])\n",
      "18 torch.Size([1, 256, 16, 64])\n"
     ]
    }
   ],
   "source": [
    "x = torch.randn(1,4096,3).cuda()\n",
    "for i, layer in enumerate(model):\n",
    "    x = layer(x)\n",
    "    print(i, x.shape)\n",
    "    "
   ]
  },
  {
   "cell_type": "markdown",
   "id": "5f60f4ff",
   "metadata": {},
   "source": [
    "# DiTing"
   ]
  },
  {
   "cell_type": "code",
   "execution_count": 3,
   "id": "3a68df6c",
   "metadata": {},
   "outputs": [],
   "source": [
    "from dataset.resource.load_resource import load_resource\n",
    "from dataset.resource.resource_arguements import ResourceConfig, ResourceDiTing"
   ]
  },
  {
   "cell_type": "code",
   "execution_count": 35,
   "id": "324cda70",
   "metadata": {},
   "outputs": [
    {
     "name": "stdout",
     "output_type": "stream",
     "text": [
      "Warning: 12 rows are removed because of ptos<=0, this is temperary method to avoid the bug in the dataset. \n"
     ]
    }
   ],
   "source": [
    "config = ResourceDiTing(resource_source='diting.group.full.good.hdf5')\n",
    "df, dtfl, index_map, normer, noise_engine = load_resource(config)"
   ]
  },
  {
   "cell_type": "code",
   "execution_count": 6,
   "id": "d64a106b",
   "metadata": {
    "code_folding": [
     3
    ]
   },
   "outputs": [],
   "source": [
    "import math\n",
    "from tqdm.auto import tqdm\n",
    "import numpy as np\n",
    "class OnlineMeanStd:\n",
    "    def __init__(self):\n",
    "        self.n           = 0\n",
    "        self.mean        = 0.0\n",
    "        self.sum_squares = 0.0\n",
    "\n",
    "    def update(self, x):\n",
    "        self.n += 1\n",
    "        delta = x - self.mean\n",
    "        self.mean = self.mean + delta / self.n\n",
    "        self.sum_squares = self.sum_squares + delta * (x - self.mean)\n",
    "\n",
    "    def get_mean_std(self):\n",
    "        if self.n > 1:\n",
    "            variance = self.sum_squares / (self.n - 1)\n",
    "            std_dev = np.sqrt(variance)\n",
    "            return self.mean, std_dev\n",
    "        else:\n",
    "            return self.mean, 0.0\n",
    "\n",
    "# 测试\n",
    "data = [1, 2, 3, 4, 5]\n"
   ]
  },
  {
   "cell_type": "code",
   "execution_count": 7,
   "id": "a4882274",
   "metadata": {},
   "outputs": [],
   "source": []
  },
  {
   "cell_type": "code",
   "execution_count": null,
   "id": "8baedaae",
   "metadata": {},
   "outputs": [],
   "source": []
  },
  {
   "cell_type": "code",
   "execution_count": 12,
   "id": "919655fe",
   "metadata": {},
   "outputs": [
    {
     "name": "stdout",
     "output_type": "stream",
     "text": [
      "0 torch.Size([1, 6, 1024, 4096])\n",
      "1 torch.Size([1, 6, 1024, 4096])\n"
     ]
    },
    {
     "ename": "AttributeError",
     "evalue": "'AddRotaryPosition' object has no attribute 'width'",
     "output_type": "error",
     "traceback": [
      "\u001b[0;31m---------------------------------------------------------------------------\u001b[0m",
      "\u001b[0;31mAttributeError\u001b[0m                            Traceback (most recent call last)",
      "Cell \u001b[0;32mIn[12], line 4\u001b[0m\n\u001b[1;32m      2\u001b[0m x \u001b[38;5;241m=\u001b[39m torch\u001b[38;5;241m.\u001b[39mrandn(\u001b[38;5;241m1\u001b[39m,\u001b[38;5;241m4096\u001b[39m,\u001b[38;5;241m3\u001b[39m)\u001b[38;5;241m.\u001b[39mcuda()\n\u001b[1;32m      3\u001b[0m \u001b[38;5;28;01mfor\u001b[39;00m i, layer \u001b[38;5;129;01min\u001b[39;00m \u001b[38;5;28menumerate\u001b[39m(model):\n\u001b[0;32m----> 4\u001b[0m     x \u001b[38;5;241m=\u001b[39m \u001b[43mlayer\u001b[49m\u001b[43m(\u001b[49m\u001b[43mx\u001b[49m\u001b[43m)\u001b[49m\n\u001b[1;32m      5\u001b[0m     \u001b[38;5;28mprint\u001b[39m(i, x\u001b[38;5;241m.\u001b[39mshape)\n",
      "File \u001b[0;32m~/localconda/envs/local/lib/python3.9/site-packages/torch/nn/modules/module.py:1501\u001b[0m, in \u001b[0;36mModule._call_impl\u001b[0;34m(self, *args, **kwargs)\u001b[0m\n\u001b[1;32m   1496\u001b[0m \u001b[38;5;66;03m# If we don't have any hooks, we want to skip the rest of the logic in\u001b[39;00m\n\u001b[1;32m   1497\u001b[0m \u001b[38;5;66;03m# this function, and just call forward.\u001b[39;00m\n\u001b[1;32m   1498\u001b[0m \u001b[38;5;28;01mif\u001b[39;00m \u001b[38;5;129;01mnot\u001b[39;00m (\u001b[38;5;28mself\u001b[39m\u001b[38;5;241m.\u001b[39m_backward_hooks \u001b[38;5;129;01mor\u001b[39;00m \u001b[38;5;28mself\u001b[39m\u001b[38;5;241m.\u001b[39m_backward_pre_hooks \u001b[38;5;129;01mor\u001b[39;00m \u001b[38;5;28mself\u001b[39m\u001b[38;5;241m.\u001b[39m_forward_hooks \u001b[38;5;129;01mor\u001b[39;00m \u001b[38;5;28mself\u001b[39m\u001b[38;5;241m.\u001b[39m_forward_pre_hooks\n\u001b[1;32m   1499\u001b[0m         \u001b[38;5;129;01mor\u001b[39;00m _global_backward_pre_hooks \u001b[38;5;129;01mor\u001b[39;00m _global_backward_hooks\n\u001b[1;32m   1500\u001b[0m         \u001b[38;5;129;01mor\u001b[39;00m _global_forward_hooks \u001b[38;5;129;01mor\u001b[39;00m _global_forward_pre_hooks):\n\u001b[0;32m-> 1501\u001b[0m     \u001b[38;5;28;01mreturn\u001b[39;00m \u001b[43mforward_call\u001b[49m\u001b[43m(\u001b[49m\u001b[38;5;241;43m*\u001b[39;49m\u001b[43margs\u001b[49m\u001b[43m,\u001b[49m\u001b[43m \u001b[49m\u001b[38;5;241;43m*\u001b[39;49m\u001b[38;5;241;43m*\u001b[39;49m\u001b[43mkwargs\u001b[49m\u001b[43m)\u001b[49m\n\u001b[1;32m   1502\u001b[0m \u001b[38;5;66;03m# Do not call functions when jit is used\u001b[39;00m\n\u001b[1;32m   1503\u001b[0m full_backward_hooks, non_full_backward_hooks \u001b[38;5;241m=\u001b[39m [], []\n",
      "File \u001b[0;32m/mnt/data/ai4earthquake/zhangtianning/projects/AI4Q/model/embedding/SignalEmbedding.py:239\u001b[0m, in \u001b[0;36mAddRotaryPosition.forward\u001b[0;34m(self, x)\u001b[0m\n\u001b[1;32m    238\u001b[0m \u001b[38;5;28;01mdef\u001b[39;00m \u001b[38;5;21mforward\u001b[39m(\u001b[38;5;28mself\u001b[39m, x):\n\u001b[0;32m--> 239\u001b[0m     \u001b[38;5;28;01massert\u001b[39;00m x\u001b[38;5;241m.\u001b[39mshape[\u001b[38;5;241m-\u001b[39m\u001b[38;5;241m2\u001b[39m:] \u001b[38;5;241m==\u001b[39m (\u001b[38;5;28;43mself\u001b[39;49m\u001b[38;5;241;43m.\u001b[39;49m\u001b[43mwidth\u001b[49m, \u001b[38;5;28mself\u001b[39m\u001b[38;5;241m.\u001b[39mheight)\n\u001b[1;32m    240\u001b[0m     \u001b[38;5;28;01mreturn\u001b[39;00m apply_rotary_emb(\u001b[38;5;28mself\u001b[39m\u001b[38;5;241m.\u001b[39mfreqs, x)\n",
      "File \u001b[0;32m~/localconda/envs/local/lib/python3.9/site-packages/torch/nn/modules/module.py:1614\u001b[0m, in \u001b[0;36mModule.__getattr__\u001b[0;34m(self, name)\u001b[0m\n\u001b[1;32m   1612\u001b[0m     \u001b[38;5;28;01mif\u001b[39;00m name \u001b[38;5;129;01min\u001b[39;00m modules:\n\u001b[1;32m   1613\u001b[0m         \u001b[38;5;28;01mreturn\u001b[39;00m modules[name]\n\u001b[0;32m-> 1614\u001b[0m \u001b[38;5;28;01mraise\u001b[39;00m \u001b[38;5;167;01mAttributeError\u001b[39;00m(\u001b[38;5;124m\"\u001b[39m\u001b[38;5;124m'\u001b[39m\u001b[38;5;132;01m{}\u001b[39;00m\u001b[38;5;124m'\u001b[39m\u001b[38;5;124m object has no attribute \u001b[39m\u001b[38;5;124m'\u001b[39m\u001b[38;5;132;01m{}\u001b[39;00m\u001b[38;5;124m'\u001b[39m\u001b[38;5;124m\"\u001b[39m\u001b[38;5;241m.\u001b[39mformat(\n\u001b[1;32m   1615\u001b[0m     \u001b[38;5;28mtype\u001b[39m(\u001b[38;5;28mself\u001b[39m)\u001b[38;5;241m.\u001b[39m\u001b[38;5;18m__name__\u001b[39m, name))\n",
      "\u001b[0;31mAttributeError\u001b[0m: 'AddRotaryPosition' object has no attribute 'width'"
     ]
    }
   ],
   "source": []
  },
  {
   "cell_type": "code",
   "execution_count": 48,
   "id": "8c408e92",
   "metadata": {},
   "outputs": [],
   "source": [
    "from model.embedding.layers.wavelets_pytorch.transform import WaveletTransInTorch\n",
    "from model.embedding.layers.wavelets_pytorch.wavelets import Morlet\n",
    "wavelet = Morlet(w0=6)\n",
    "model = WaveletTransInTorch(args.wavelet_dt, args.wavelet_dj, wavelet, unbias=False, total_scale_num = 1000,\n",
    "                                   cuda=True #<---not any work\n",
    "                                   )\n"
   ]
  },
  {
   "cell_type": "code",
   "execution_count": 49,
   "id": "3ba48b70",
   "metadata": {},
   "outputs": [],
   "source": [
    "from einops import rearrange\n",
    "x = torch.randn(1,3000,3).cuda()\n",
    "B, L, D = x.shape\n",
    "x = rearrange(x, 'B L D -> (B D) L')\n",
    "x = model.power(x)\n",
    "x = rearrange(x, '(B D) N T L -> B (D T) N L', L=L, D=D)"
   ]
  },
  {
   "cell_type": "code",
   "execution_count": 36,
   "id": "6610bc3d",
   "metadata": {},
   "outputs": [
    {
     "data": {
      "application/vnd.jupyter.widget-view+json": {
       "model_id": "b12dfa45b00c418d8316a60076bcf39d",
       "version_major": 2,
       "version_minor": 0
      },
      "text/plain": [
       "  0%|          | 0/16 [00:00<?, ?it/s]"
      ]
     },
     "metadata": {},
     "output_type": "display_data"
    }
   ],
   "source": [
    "online_calc = OnlineMeanStd()\n",
    "batch = []\n",
    "for i in tqdm(range(16)):\n",
    "    metadata = df.iloc[i]\n",
    "    linedata = dtfl[metadata['trace_name']]\n",
    "    total_length = 3000\n",
    "    ahead_length = 500\n",
    "    if metadata.p_arrival_sample<ahead_length:\n",
    "        start_padding = ahead_length - metadata.p_arrival_sample\n",
    "        linedata = np.pad(linedata, ((start_padding,0),(0,0)))\n",
    "\n",
    "    linedata = linedata[metadata.p_arrival_sample-ahead_length:metadata.p_arrival_sample+total_length-ahead_length]\n",
    "    if len(linedata) < total_length:\n",
    "        end_padding = total_length - len(linedata)\n",
    "        linedata = np.pad(linedata, ((0,end_padding),(0,0)))\n",
    "    # 选择小波函数和尺度范围\n",
    "    batch.append(linedata)\n",
    "batch = np.stack(batch)\n",
    "batch = batch[:,:,0]\n",
    "#     scales = np.linspace(12, 300, 1000)\n",
    "#     coef, _ = pywt.cwt(linedata.T, scales, wavelet)\n",
    "#     online_calc.update(coef)\n",
    "#     mean, std_dev = online_calc.get_mean_std()\n",
    "#     if i>1 :print(mean.shape, std_dev.shape)"
   ]
  },
  {
   "cell_type": "code",
   "execution_count": 37,
   "id": "c4c09fbb",
   "metadata": {},
   "outputs": [],
   "source": [
    "# # central_frequency = 6#其中,central_frequency是所用小波函数的中心频率(对于Morlet小波,通常取6),dt是信号的采样周期(即1/50)。\n",
    "# # dt = 1/50\n",
    "# # frequencies = np.arange(1, 26)\n",
    "# # scales = central_frequency / (frequencies * dt)\n",
    "# # print(f\"建议的尺度范围: {scales.min():.2f} 到 {scales.max():.2f}\")\n",
    "# x = linedata[:,0]\n",
    "\n",
    "# # 选择小波函数和尺度范围\n",
    "# wavelet = 'morl' # 也可以选择其他小波函数如'mexh', 'gaus8'等\n",
    "# scales = np.linspace(scales.min(), scales.max(), 1000)\n",
    "# coef, freq = pywt.cwt(x, scales, wavelet)\n"
   ]
  },
  {
   "cell_type": "code",
   "execution_count": 38,
   "id": "ee4a2c54",
   "metadata": {
    "code_folding": []
   },
   "outputs": [],
   "source": [
    "from model.embedding.layers.wavelets_pytorch.wavelets import Morlet\n",
    "fps = 50\n",
    "dt  = 1.0/fps\n",
    "dj  = 0.0125\n",
    "unbias = False\n",
    "batch_size = 16\n",
    "wavelet = Morlet(w0=6)\n",
    "\n",
    "t_min = 0\n",
    "t_max = 1/50*3000\n",
    "t = np.linspace(0, t_max, 3000)"
   ]
  },
  {
   "cell_type": "code",
   "execution_count": 39,
   "id": "8663815c",
   "metadata": {
    "code_folding": []
   },
   "outputs": [],
   "source": [
    "from model.embedding.layers.wavelets_pytorch.transform import WaveletTransform, WaveletTransformTorch\n",
    "wa_torch = WaveletTransformTorch(dt, dj, wavelet, unbias=unbias, cuda=True)\n",
    "power_torch = wa_torch.power(batch)"
   ]
  },
  {
   "cell_type": "code",
   "execution_count": 41,
   "id": "0bf20c44",
   "metadata": {},
   "outputs": [
    {
     "data": {
      "text/plain": [
       "(16, 3000)"
      ]
     },
     "execution_count": 41,
     "metadata": {},
     "output_type": "execute_result"
    }
   ],
   "source": [
    "batch.shape"
   ]
  },
  {
   "cell_type": "code",
   "execution_count": 26,
   "id": "d4383881",
   "metadata": {},
   "outputs": [],
   "source": [
    "self = wa_torch"
   ]
  },
  {
   "cell_type": "code",
   "execution_count": 31,
   "id": "8efac64e",
   "metadata": {},
   "outputs": [],
   "source": [
    "J = int((1 / self.dj) * np.log2(self.signal_length * self.dt / self._scale_minimum))\n",
    "scales = self._scale_minimum * 2 ** (self.dj * np.linspace(0, J + 1, 1000))"
   ]
  },
  {
   "cell_type": "code",
   "execution_count": 33,
   "id": "1ef5fa5e",
   "metadata": {},
   "outputs": [
    {
     "ename": "AttributeError",
     "evalue": "'WaveletTransformTorch' object has no attribute 'J'",
     "output_type": "error",
     "traceback": [
      "\u001b[0;31m---------------------------------------------------------------------------\u001b[0m",
      "\u001b[0;31mAttributeError\u001b[0m                            Traceback (most recent call last)",
      "Cell \u001b[0;32mIn[33], line 1\u001b[0m\n\u001b[0;32m----> 1\u001b[0m \u001b[43mwa_torch\u001b[49m\u001b[38;5;241;43m.\u001b[39;49m\u001b[43mJ\u001b[49m\n",
      "\u001b[0;31mAttributeError\u001b[0m: 'WaveletTransformTorch' object has no attribute 'J'"
     ]
    }
   ],
   "source": [
    "wa_torch.J\n"
   ]
  },
  {
   "cell_type": "code",
   "execution_count": 29,
   "id": "a4a3f933",
   "metadata": {},
   "outputs": [
    {
     "data": {
      "text/plain": [
       "0.038720532367775645"
      ]
     },
     "execution_count": 29,
     "metadata": {},
     "output_type": "execute_result"
    }
   ],
   "source": [
    "self._scale_minimum"
   ]
  },
  {
   "cell_type": "code",
   "execution_count": 28,
   "id": "2be85ba7",
   "metadata": {},
   "outputs": [
    {
     "data": {
      "text/plain": [
       "array([3.87205324e-02, 3.90574778e-02, 3.93973554e-02, 3.97401905e-02,\n",
       "       4.00860090e-02, 4.04348368e-02, 4.07867001e-02, 4.11416253e-02,\n",
       "       4.14996390e-02, 4.18607682e-02, 4.22250400e-02, 4.25924816e-02,\n",
       "       4.29631207e-02, 4.33369850e-02, 4.37141028e-02, 4.40945022e-02,\n",
       "       4.44782118e-02, 4.48652605e-02, 4.52556773e-02, 4.56494915e-02,\n",
       "       4.60467326e-02, 4.64474305e-02, 4.68516153e-02, 4.72593173e-02,\n",
       "       4.76705671e-02, 4.80853956e-02, 4.85038339e-02, 4.89259135e-02,\n",
       "       4.93516660e-02, 4.97811234e-02, 5.02143180e-02, 5.06512821e-02,\n",
       "       5.10920488e-02, 5.15366509e-02, 5.19851220e-02, 5.24374957e-02,\n",
       "       5.28938060e-02, 5.33540870e-02, 5.38183734e-02, 5.42867000e-02,\n",
       "       5.47591020e-02, 5.52356148e-02, 5.57162743e-02, 5.62011164e-02,\n",
       "       5.66901776e-02, 5.71834946e-02, 5.76811044e-02, 5.81830445e-02,\n",
       "       5.86893524e-02, 5.92000662e-02, 5.97152242e-02, 6.02348651e-02,\n",
       "       6.07590279e-02, 6.12877520e-02, 6.18210770e-02, 6.23590430e-02,\n",
       "       6.29016904e-02, 6.34490599e-02, 6.40011926e-02, 6.45581299e-02,\n",
       "       6.51199137e-02, 6.56865862e-02, 6.62581898e-02, 6.68347675e-02,\n",
       "       6.74163625e-02, 6.80030186e-02, 6.85947798e-02, 6.91916904e-02,\n",
       "       6.97937954e-02, 7.04011399e-02, 7.10137695e-02, 7.16317301e-02,\n",
       "       7.22550683e-02, 7.28838307e-02, 7.35180646e-02, 7.41578177e-02,\n",
       "       7.48031378e-02, 7.54540735e-02, 7.61106736e-02, 7.67729874e-02,\n",
       "       7.74410647e-02, 7.81149556e-02, 7.87947107e-02, 7.94803810e-02,\n",
       "       8.01720180e-02, 8.08696736e-02, 8.15734002e-02, 8.22832506e-02,\n",
       "       8.29992781e-02, 8.37215365e-02, 8.44500799e-02, 8.51849631e-02,\n",
       "       8.59262413e-02, 8.66739701e-02, 8.74282056e-02, 8.81890044e-02,\n",
       "       8.89564237e-02, 8.97305210e-02, 9.05113546e-02, 9.12989829e-02,\n",
       "       9.20934652e-02, 9.28948610e-02, 9.37032306e-02, 9.45186346e-02,\n",
       "       9.53411342e-02, 9.61707912e-02, 9.70076679e-02, 9.78518270e-02,\n",
       "       9.87033320e-02, 9.95622468e-02, 1.00428636e-01, 1.01302564e-01,\n",
       "       1.02184098e-01, 1.03073302e-01, 1.03970244e-01, 1.04874991e-01,\n",
       "       1.05787612e-01, 1.06708174e-01, 1.07636747e-01, 1.08573400e-01,\n",
       "       1.09518204e-01, 1.10471230e-01, 1.11432549e-01, 1.12402233e-01,\n",
       "       1.13380355e-01, 1.14366989e-01, 1.15362209e-01, 1.16366089e-01,\n",
       "       1.17378705e-01, 1.18400132e-01, 1.19430448e-01, 1.20469730e-01,\n",
       "       1.21518056e-01, 1.22575504e-01, 1.23642154e-01, 1.24718086e-01,\n",
       "       1.25803381e-01, 1.26898120e-01, 1.28002385e-01, 1.29116260e-01,\n",
       "       1.30239827e-01, 1.31373172e-01, 1.32516380e-01, 1.33669535e-01,\n",
       "       1.34832725e-01, 1.36006037e-01, 1.37189560e-01, 1.38383381e-01,\n",
       "       1.39587591e-01, 1.40802280e-01, 1.42027539e-01, 1.43263460e-01,\n",
       "       1.44510137e-01, 1.45767661e-01, 1.47036129e-01, 1.48315635e-01,\n",
       "       1.49606276e-01, 1.50908147e-01, 1.52221347e-01, 1.53545975e-01,\n",
       "       1.54882129e-01, 1.56229911e-01, 1.57589421e-01, 1.58960762e-01,\n",
       "       1.60344036e-01, 1.61739347e-01, 1.63146800e-01, 1.64566501e-01,\n",
       "       1.65998556e-01, 1.67443073e-01, 1.68900160e-01, 1.70369926e-01,\n",
       "       1.71852483e-01, 1.73347940e-01, 1.74856411e-01, 1.76378009e-01,\n",
       "       1.77912847e-01, 1.79461042e-01, 1.81022709e-01, 1.82597966e-01,\n",
       "       1.84186930e-01, 1.85789722e-01, 1.87406461e-01, 1.89037269e-01,\n",
       "       1.90682268e-01, 1.92341582e-01, 1.94015336e-01, 1.95703654e-01,\n",
       "       1.97406664e-01, 1.99124494e-01, 2.00857272e-01, 2.02605129e-01,\n",
       "       2.04368195e-01, 2.06146604e-01, 2.07940488e-01, 2.09749983e-01,\n",
       "       2.11575224e-01, 2.13416348e-01, 2.15273494e-01, 2.17146800e-01,\n",
       "       2.19036408e-01, 2.20942459e-01, 2.22865097e-01, 2.24804466e-01,\n",
       "       2.26760710e-01, 2.28733978e-01, 2.30724418e-01, 2.32732178e-01,\n",
       "       2.34757409e-01, 2.36800265e-01, 2.38860897e-01, 2.40939460e-01,\n",
       "       2.43036112e-01, 2.45151008e-01, 2.47284308e-01, 2.49436172e-01,\n",
       "       2.51606762e-01, 2.53796240e-01, 2.56004770e-01, 2.58232520e-01,\n",
       "       2.60479655e-01, 2.62746345e-01, 2.65032759e-01, 2.67339070e-01,\n",
       "       2.69665450e-01, 2.72012074e-01, 2.74379119e-01, 2.76766762e-01,\n",
       "       2.79175182e-01, 2.81604560e-01, 2.84055078e-01, 2.86526921e-01,\n",
       "       2.89020273e-01, 2.91535323e-01, 2.94072259e-01, 2.96631271e-01,\n",
       "       2.99212551e-01, 3.01816294e-01, 3.04442694e-01, 3.07091950e-01,\n",
       "       3.09764259e-01, 3.12459823e-01, 3.15178843e-01, 3.17921524e-01,\n",
       "       3.20688072e-01, 3.23478694e-01, 3.26293601e-01, 3.29133002e-01,\n",
       "       3.31997112e-01, 3.34886146e-01, 3.37800320e-01, 3.40739853e-01,\n",
       "       3.43704965e-01, 3.46695880e-01, 3.49712822e-01, 3.52756018e-01,\n",
       "       3.55825695e-01, 3.58922084e-01, 3.62045418e-01, 3.65195932e-01,\n",
       "       3.68373861e-01, 3.71579444e-01, 3.74812922e-01, 3.78074538e-01,\n",
       "       3.81364537e-01, 3.84683165e-01, 3.88030672e-01, 3.91407308e-01,\n",
       "       3.94813328e-01, 3.98248987e-01, 4.01714544e-01, 4.05210257e-01,\n",
       "       4.08736390e-01, 4.12293208e-01, 4.15880976e-01, 4.19499966e-01,\n",
       "       4.23150448e-01, 4.26832696e-01, 4.30546987e-01, 4.34293600e-01,\n",
       "       4.38072816e-01, 4.41884919e-01, 4.45730194e-01, 4.49608931e-01,\n",
       "       4.53521421e-01, 4.57467957e-01, 4.61448835e-01, 4.65464356e-01,\n",
       "       4.69514819e-01, 4.73600529e-01, 4.77721793e-01, 4.81878921e-01,\n",
       "       4.86072223e-01, 4.90302016e-01, 4.94568616e-01, 4.98872344e-01,\n",
       "       5.03213523e-01, 5.07592479e-01, 5.12009541e-01, 5.16465039e-01,\n",
       "       5.20959310e-01, 5.25492689e-01, 5.30065518e-01, 5.34678140e-01,\n",
       "       5.39330900e-01, 5.44024149e-01, 5.48758238e-01, 5.53533524e-01,\n",
       "       5.58350363e-01, 5.63209119e-01, 5.68110156e-01, 5.73053841e-01,\n",
       "       5.78040546e-01, 5.83070646e-01, 5.88144517e-01, 5.93262541e-01,\n",
       "       5.98425102e-01, 6.03632588e-01, 6.08885389e-01, 6.14183900e-01,\n",
       "       6.19528518e-01, 6.24919645e-01, 6.30357686e-01, 6.35843048e-01,\n",
       "       6.41376144e-01, 6.46957389e-01, 6.52587201e-01, 6.58266005e-01,\n",
       "       6.63994225e-01, 6.69772292e-01, 6.75600639e-01, 6.81479705e-01,\n",
       "       6.87409931e-01, 6.93391761e-01, 6.99425644e-01, 7.05512035e-01,\n",
       "       7.11651389e-01, 7.17844168e-01, 7.24090837e-01, 7.30391863e-01,\n",
       "       7.36747721e-01, 7.43158888e-01, 7.49625845e-01, 7.56149077e-01,\n",
       "       7.62729074e-01, 7.69366330e-01, 7.76061343e-01, 7.82814616e-01,\n",
       "       7.89626656e-01, 7.96497975e-01, 8.03429087e-01, 8.10420514e-01,\n",
       "       8.17472780e-01, 8.24586415e-01, 8.31761953e-01, 8.38999932e-01,\n",
       "       8.46300896e-01, 8.53665392e-01, 8.61093975e-01, 8.68587201e-01,\n",
       "       8.76145632e-01, 8.83769837e-01, 8.91460388e-01, 8.99217862e-01,\n",
       "       9.07042841e-01, 9.14935913e-01, 9.22897671e-01, 9.30928711e-01,\n",
       "       9.39029638e-01, 9.47201059e-01, 9.55443587e-01, 9.63757842e-01,\n",
       "       9.72144447e-01, 9.80604032e-01, 9.89137232e-01, 9.97744688e-01,\n",
       "       1.00642705e+00, 1.01518496e+00, 1.02401908e+00, 1.03293008e+00,\n",
       "       1.04191862e+00, 1.05098538e+00, 1.06013104e+00, 1.06935628e+00,\n",
       "       1.07866180e+00, 1.08804830e+00, 1.09751648e+00, 1.10706705e+00,\n",
       "       1.11670073e+00, 1.12641824e+00, 1.13622031e+00, 1.14610768e+00,\n",
       "       1.15608109e+00, 1.16614129e+00, 1.17628903e+00, 1.18652508e+00,\n",
       "       1.19685020e+00, 1.20726518e+00, 1.21777078e+00, 1.22836780e+00,\n",
       "       1.23905704e+00, 1.24983929e+00, 1.26071537e+00, 1.27168610e+00,\n",
       "       1.28275229e+00, 1.29391478e+00, 1.30517440e+00, 1.31653201e+00,\n",
       "       1.32798845e+00, 1.33954458e+00, 1.35120128e+00, 1.36295941e+00,\n",
       "       1.37481986e+00, 1.38678352e+00, 1.39885129e+00, 1.41102407e+00,\n",
       "       1.42330278e+00, 1.43568834e+00, 1.44818167e+00, 1.46078373e+00,\n",
       "       1.47349544e+00, 1.48631778e+00, 1.49925169e+00, 1.51229815e+00,\n",
       "       1.52545815e+00, 1.53873266e+00, 1.55212269e+00, 1.56562923e+00,\n",
       "       1.57925331e+00, 1.59299595e+00, 1.60685817e+00, 1.62084103e+00,\n",
       "       1.63494556e+00, 1.64917283e+00, 1.66352391e+00, 1.67799986e+00,\n",
       "       1.69260179e+00, 1.70733078e+00, 1.72218795e+00, 1.73717440e+00,\n",
       "       1.75229126e+00, 1.76753967e+00, 1.78292078e+00, 1.79843572e+00,\n",
       "       1.81408568e+00, 1.82987183e+00, 1.84579534e+00, 1.86185742e+00,\n",
       "       1.87805928e+00, 1.89440212e+00, 1.91088717e+00, 1.92751568e+00,\n",
       "       1.94428889e+00, 1.96120806e+00, 1.97827446e+00, 1.99548938e+00,\n",
       "       2.01285409e+00, 2.03036992e+00, 2.04803816e+00, 2.06586016e+00,\n",
       "       2.08383724e+00, 2.10197076e+00, 2.12026207e+00, 2.13871256e+00,\n",
       "       2.15732360e+00, 2.17609660e+00, 2.19503295e+00, 2.21413409e+00,\n",
       "       2.23340145e+00, 2.25283648e+00, 2.27244062e+00, 2.29221536e+00,\n",
       "       2.31216219e+00, 2.33228258e+00, 2.35257807e+00, 2.37305016e+00,\n",
       "       2.39370041e+00, 2.41453035e+00, 2.43554156e+00, 2.45673560e+00,\n",
       "       2.47811407e+00, 2.49967858e+00, 2.52143074e+00, 2.54337219e+00,\n",
       "       2.56550458e+00, 2.58782955e+00, 2.61034881e+00, 2.63306402e+00,\n",
       "       2.65597690e+00, 2.67908917e+00, 2.70240256e+00, 2.72591882e+00,\n",
       "       2.74963972e+00, 2.77356704e+00, 2.79770258e+00, 2.82204814e+00,\n",
       "       2.84660556e+00, 2.87137667e+00, 2.89636335e+00, 2.92156745e+00,\n",
       "       2.94699089e+00, 2.97263555e+00, 2.99850338e+00, 3.02459631e+00,\n",
       "       3.05091629e+00, 3.07746532e+00, 3.10424537e+00, 3.13125847e+00,\n",
       "       3.15850663e+00, 3.18599190e+00, 3.21371635e+00, 3.24168206e+00,\n",
       "       3.26989112e+00, 3.29834566e+00, 3.32704781e+00, 3.35599973e+00,\n",
       "       3.38520358e+00, 3.41466157e+00, 3.44437590e+00, 3.47434880e+00,\n",
       "       3.50458253e+00, 3.53507935e+00, 3.56584155e+00, 3.59687145e+00,\n",
       "       3.62817137e+00, 3.65974365e+00, 3.69159068e+00, 3.72371485e+00,\n",
       "       3.75611855e+00, 3.78880423e+00, 3.82177435e+00, 3.85503137e+00,\n",
       "       3.88857779e+00, 3.92241613e+00, 3.95654893e+00, 3.99097875e+00,\n",
       "       4.02570819e+00, 4.06073983e+00, 4.09607633e+00, 4.13172032e+00,\n",
       "       4.16767448e+00, 4.20394151e+00, 4.24052415e+00, 4.27742512e+00,\n",
       "       4.31464720e+00, 4.35219319e+00, 4.39006591e+00, 4.42826819e+00,\n",
       "       4.46680291e+00, 4.50567295e+00, 4.54488125e+00, 4.58443073e+00,\n",
       "       4.62432437e+00, 4.66456517e+00, 4.70515614e+00, 4.74610033e+00,\n",
       "       4.78740082e+00, 4.82906070e+00, 4.87108311e+00, 4.91347120e+00,\n",
       "       4.95622814e+00, 4.99935716e+00, 5.04286149e+00, 5.08674438e+00,\n",
       "       5.13100915e+00, 5.17565911e+00, 5.22069761e+00, 5.26612804e+00,\n",
       "       5.31195380e+00, 5.35817833e+00, 5.40480511e+00, 5.45183764e+00,\n",
       "       5.49927944e+00, 5.54713408e+00, 5.59540516e+00, 5.64409628e+00,\n",
       "       5.69321111e+00, 5.74275335e+00, 5.79272669e+00, 5.84313491e+00,\n",
       "       5.89398177e+00, 5.94527111e+00, 5.99700676e+00, 6.04919261e+00,\n",
       "       6.10183259e+00, 6.15493064e+00, 6.20849074e+00, 6.26251693e+00,\n",
       "       6.31701325e+00, 6.37198380e+00, 6.42743270e+00, 6.48336411e+00,\n",
       "       6.53978224e+00, 6.59669132e+00, 6.65409562e+00, 6.71199945e+00,\n",
       "       6.77040717e+00, 6.82932314e+00, 6.88875180e+00, 6.94869760e+00,\n",
       "       7.00916506e+00, 7.07015870e+00, 7.13168311e+00, 7.19374290e+00,\n",
       "       7.25634273e+00, 7.31948731e+00, 7.38318137e+00, 7.44742969e+00,\n",
       "       7.51223710e+00, 7.57760847e+00, 7.64354870e+00, 7.71006273e+00,\n",
       "       7.77715557e+00, 7.84483225e+00, 7.91309786e+00, 7.98195751e+00,\n",
       "       8.05141637e+00, 8.12147967e+00, 8.19215265e+00, 8.26344063e+00,\n",
       "       8.33534896e+00, 8.40788303e+00, 8.48104829e+00, 8.55485024e+00,\n",
       "       8.62929440e+00, 8.70438638e+00, 8.78013181e+00, 8.85653638e+00,\n",
       "       8.93360581e+00, 9.01134591e+00, 9.08976249e+00, 9.16886146e+00,\n",
       "       9.24864874e+00, 9.32913033e+00, 9.41031227e+00, 9.49220066e+00,\n",
       "       9.57480164e+00, 9.65812140e+00, 9.74216622e+00, 9.82694239e+00,\n",
       "       9.91245629e+00, 9.99871432e+00, 1.00857230e+01, 1.01734888e+01,\n",
       "       1.02620183e+01, 1.03513182e+01, 1.04413952e+01, 1.05322561e+01,\n",
       "       1.06239076e+01, 1.07163567e+01, 1.08096102e+01, 1.09036753e+01,\n",
       "       1.09985589e+01, 1.10942682e+01, 1.11908103e+01, 1.12881926e+01,\n",
       "       1.13864222e+01, 1.14855067e+01, 1.15854534e+01, 1.16862698e+01,\n",
       "       1.17879635e+01, 1.18905422e+01, 1.19940135e+01, 1.20983852e+01,\n",
       "       1.22036652e+01, 1.23098613e+01, 1.24169815e+01, 1.25250339e+01,\n",
       "       1.26340265e+01, 1.27439676e+01, 1.28548654e+01, 1.29667282e+01,\n",
       "       1.30795645e+01, 1.31933826e+01, 1.33081912e+01, 1.34239989e+01,\n",
       "       1.35408143e+01, 1.36586463e+01, 1.37775036e+01, 1.38973952e+01,\n",
       "       1.40183301e+01, 1.41403174e+01, 1.42633662e+01, 1.43874858e+01,\n",
       "       1.45126855e+01, 1.46389746e+01, 1.47663627e+01, 1.48948594e+01,\n",
       "       1.50244742e+01, 1.51552169e+01, 1.52870974e+01, 1.54201255e+01,\n",
       "       1.55543111e+01, 1.56896645e+01, 1.58261957e+01, 1.59639150e+01,\n",
       "       1.61028327e+01, 1.62429593e+01, 1.63843053e+01, 1.65268813e+01,\n",
       "       1.66706979e+01, 1.68157661e+01, 1.69620966e+01, 1.71097005e+01,\n",
       "       1.72585888e+01, 1.74087728e+01, 1.75602636e+01, 1.77130728e+01,\n",
       "       1.78672116e+01, 1.80226918e+01, 1.81795250e+01, 1.83377229e+01,\n",
       "       1.84972975e+01, 1.86582607e+01, 1.88206245e+01, 1.89844013e+01,\n",
       "       1.91496033e+01, 1.93162428e+01, 1.94843324e+01, 1.96538848e+01,\n",
       "       1.98249126e+01, 1.99974286e+01, 2.01714459e+01, 2.03469775e+01,\n",
       "       2.05240366e+01, 2.07026364e+01, 2.08827904e+01, 2.10645121e+01,\n",
       "       2.12478152e+01, 2.14327133e+01, 2.16192205e+01, 2.18073506e+01,\n",
       "       2.19971178e+01, 2.21885363e+01, 2.23816206e+01, 2.25763851e+01,\n",
       "       2.27728445e+01, 2.29710134e+01, 2.31709068e+01, 2.33725396e+01,\n",
       "       2.35759271e+01, 2.37810844e+01, 2.39880270e+01, 2.41967705e+01,\n",
       "       2.44073304e+01, 2.46197226e+01, 2.48339630e+01, 2.50500677e+01,\n",
       "       2.52680530e+01, 2.54879352e+01, 2.57097308e+01, 2.59334565e+01,\n",
       "       2.61591290e+01, 2.63867653e+01, 2.66163825e+01, 2.68479978e+01,\n",
       "       2.70816287e+01, 2.73172926e+01, 2.75550072e+01, 2.77947904e+01,\n",
       "       2.80366602e+01, 2.82806348e+01, 2.85267324e+01, 2.87749716e+01,\n",
       "       2.90253709e+01, 2.92779492e+01, 2.95327255e+01, 2.97897188e+01,\n",
       "       3.00489484e+01, 3.03104339e+01, 3.05741948e+01, 3.08402509e+01,\n",
       "       3.11086223e+01, 3.13793290e+01, 3.16523914e+01, 3.19278300e+01,\n",
       "       3.22056655e+01, 3.24859187e+01, 3.27686106e+01, 3.30537625e+01,\n",
       "       3.33413958e+01, 3.36315321e+01, 3.39241932e+01, 3.42194009e+01,\n",
       "       3.45171776e+01, 3.48175455e+01, 3.51205273e+01, 3.54261455e+01,\n",
       "       3.57344233e+01, 3.60453836e+01, 3.63590500e+01, 3.66754458e+01,\n",
       "       3.69945950e+01, 3.73165213e+01, 3.76412491e+01, 3.79688026e+01,\n",
       "       3.82992065e+01, 3.86324856e+01, 3.89686649e+01, 3.93077696e+01,\n",
       "       3.96498251e+01, 3.99948573e+01, 4.03428919e+01, 4.06939551e+01,\n",
       "       4.10480732e+01, 4.14052729e+01, 4.17655809e+01, 4.21290243e+01,\n",
       "       4.24956304e+01, 4.28654267e+01, 4.32384409e+01, 4.36147011e+01,\n",
       "       4.39942356e+01, 4.43770727e+01, 4.47632412e+01, 4.51527702e+01,\n",
       "       4.55456889e+01, 4.59420268e+01, 4.63418135e+01, 4.67450792e+01,\n",
       "       4.71518542e+01, 4.75621688e+01, 4.79760541e+01, 4.83935409e+01,\n",
       "       4.88146607e+01, 4.92394451e+01, 4.96679260e+01, 5.01001354e+01,\n",
       "       5.05361060e+01, 5.09758704e+01, 5.14194616e+01, 5.18669129e+01,\n",
       "       5.23182579e+01, 5.27735306e+01, 5.32327650e+01, 5.36959956e+01,\n",
       "       5.41632573e+01, 5.46345851e+01, 5.51100144e+01, 5.55895808e+01,\n",
       "       5.60733205e+01, 5.65612696e+01, 5.70534648e+01, 5.75499432e+01,\n",
       "       5.80507418e+01, 5.85558985e+01, 5.90654509e+01, 5.95794375e+01])"
      ]
     },
     "execution_count": 28,
     "metadata": {},
     "output_type": "execute_result"
    }
   ],
   "source": [
    "wa_torch.compute_optimal_scales()"
   ]
  },
  {
   "cell_type": "code",
   "execution_count": 20,
   "id": "9eb6bd59",
   "metadata": {},
   "outputs": [
    {
     "data": {
      "text/plain": [
       "(16, 848, 3000)"
      ]
     },
     "execution_count": 20,
     "metadata": {},
     "output_type": "execute_result"
    }
   ],
   "source": [
    "power_torch.shape"
   ]
  },
  {
   "cell_type": "code",
   "execution_count": null,
   "id": "119479e0",
   "metadata": {},
   "outputs": [],
   "source": [
    "class ContinusWaveletDecomposition(nn.Module):\n",
    "    \"\"\"\n",
    "    the goal is use symmetric slide windows extract the signal features. \n",
    "    The symmetric actually implies smooth the high frequency signal. \n",
    "    \"\"\"\n",
    "\n",
    "    def __init__(self, in_feat, hidden_feat, out_feat, scalers=[3], abs_feature=True, stride = 1, cnn_type = 'symmetry'):\n",
    "        super().__init__()\n",
    "        for i in scalers:\n",
    "            assert i % 2 == 1, f\"the scalers must be odd, given {scalers}\"\n",
    "        self.abs_feature = abs_feature\n",
    "        self.stride = stride\n",
    "        self.embedders = nn.ModuleList()\n",
    "        for scaler in scalers:\n",
    "            padding = (scaler-stride)//2\n",
    "            if (scaler-stride)%2 == 1:\n",
    "                print(f\"scaler - stride must mod 2, given scale={scaler} and stride={stride}, pass\")\n",
    "                continue\n",
    "            if scaler < stride:\n",
    "                print(f\"scale must large then stride , given scale={scaler} and stride={stride}, pass\")\n",
    "                continue\n",
    "            self.embedders.append(CNNModule[cnn_type](\n",
    "                in_feat, hidden_feat, kernel_size=scaler, stride=stride, padding=padding, bias=False))\n",
    "        assert len(self.embedders) > 0, \"non feature level createded\"\n",
    "\n",
    "        self.feature_mixing = nn.Linear(int(self.abs_feature)*in_feat + hidden_feat*len(self.embedders), out_feat, bias=False)\n",
    "\n",
    "        self.reset_parameters()\n",
    "\n",
    "    def reset_parameters(self):\n",
    "        def init_weights(m):\n",
    "            if isinstance(m, (nn.Conv1d, nn.Conv2d, nn.Conv3d)):\n",
    "                torch.nn.init.xavier_uniform_(m.weight)\n",
    "                if m.bias is not None:\n",
    "                    torch.nn.init.zeros_(m.bias)\n",
    "            elif isinstance(m, (nn.Linear)):\n",
    "                torch.nn.init.constant_(m.weight, 1/m.weight.shape[1])\n",
    "                if m.bias is not None:\n",
    "                    torch.nn.init.zeros_(m.bias)\n",
    "        self.apply(init_weights)\n",
    "\n",
    "    def forward(self, x):\n",
    "        x = x.permute(0, 2, 1)  # ( B, L, 3) -> (B, 3, L)\n",
    "        abs_feature = [x.abs()[...,::self.stride]] if self.abs_feature else []\n",
    "        features = torch.concatenate(abs_feature + [embedder(x) for embedder in self.embedders], 1)  # (B, 3, L) -> (B, s*N, L)\n",
    "\n",
    "        features = features.permute(0, 2, 1)  # (B, N, L) -> (B, L, s*N)\n",
    "        features = self.feature_mixing(features)  # (B, L, s*N) -> (B, L, N)\n",
    "        return features\n",
    "\n"
   ]
  },
  {
   "cell_type": "code",
   "execution_count": null,
   "id": "9cb726d1",
   "metadata": {},
   "outputs": [],
   "source": [
    "J = int((1 / self.dj) * np.log2(self.signal_length * self.dt / self._scale_minimum))"
   ]
  },
  {
   "cell_type": "code",
   "execution_count": 19,
   "id": "a8e8f226",
   "metadata": {},
   "outputs": [
    {
     "data": {
      "text/plain": [
       "848"
      ]
     },
     "execution_count": 19,
     "metadata": {},
     "output_type": "execute_result"
    }
   ],
   "source": [
    "len(wa_torch.scales)"
   ]
  },
  {
   "cell_type": "code",
   "execution_count": 10,
   "id": "6ac1e7f6",
   "metadata": {},
   "outputs": [],
   "source": []
  },
  {
   "cell_type": "code",
   "execution_count": 144,
   "id": "378f0dda",
   "metadata": {},
   "outputs": [],
   "source": [
    "scales = np.linspace(scales.min(), scales.max(), 1000)"
   ]
  },
  {
   "cell_type": "code",
   "execution_count": null,
   "id": "6e93919d",
   "metadata": {},
   "outputs": [],
   "source": [
    "J = int((1 / self.dj) * np.log2(self.signal_length * self.dt / self._scale_minimum))"
   ]
  },
  {
   "cell_type": "code",
   "execution_count": 6,
   "id": "02fe69e6",
   "metadata": {
    "code_folding": []
   },
   "outputs": [
    {
     "data": {
      "application/vnd.jupyter.widget-view+json": {
       "model_id": "3d883213267847c1a250f9306f6c3daa",
       "version_major": 2,
       "version_minor": 0
      },
      "text/plain": [
       "  0%|          | 0/16 [00:00<?, ?it/s]"
      ]
     },
     "metadata": {},
     "output_type": "display_data"
    }
   ],
   "source": []
  },
  {
   "cell_type": "code",
   "execution_count": 113,
   "id": "df428357",
   "metadata": {},
   "outputs": [
    {
     "ename": "AttributeError",
     "evalue": "'numpy.ndarray' object has no attribute 'permute'",
     "output_type": "error",
     "traceback": [
      "\u001b[0;31m---------------------------------------------------------------------------\u001b[0m",
      "\u001b[0;31mAttributeError\u001b[0m                            Traceback (most recent call last)",
      "Cell \u001b[0;32mIn[113], line 1\u001b[0m\n\u001b[0;32m----> 1\u001b[0m \u001b[43mcoef\u001b[49m\u001b[38;5;241;43m.\u001b[39;49m\u001b[43mpermute\u001b[49m(\u001b[38;5;241m0\u001b[39m,\u001b[38;5;241m2\u001b[39m,\u001b[38;5;241m1\u001b[39m)\n",
      "\u001b[0;31mAttributeError\u001b[0m: 'numpy.ndarray' object has no attribute 'permute'"
     ]
    }
   ],
   "source": [
    "coef.permute(0,2,1)"
   ]
  },
  {
   "cell_type": "code",
   "execution_count": 112,
   "id": "dc61ece9",
   "metadata": {},
   "outputs": [
    {
     "data": {
      "text/plain": [
       "0.0"
      ]
     },
     "execution_count": 112,
     "metadata": {},
     "output_type": "execute_result"
    }
   ],
   "source": [
    "np.linalg.norm(coef[:,1] - coef2)"
   ]
  },
  {
   "cell_type": "code",
   "execution_count": 133,
   "id": "cbad2dc6",
   "metadata": {},
   "outputs": [
    {
     "ename": "AttributeError",
     "evalue": "'pywt._extensions._pywt.Wavelet' object has no attribute 'complex_cwt'",
     "output_type": "error",
     "traceback": [
      "\u001b[0;31m---------------------------------------------------------------------------\u001b[0m",
      "\u001b[0;31mAttributeError\u001b[0m                            Traceback (most recent call last)",
      "Cell \u001b[0;32mIn[133], line 14\u001b[0m\n\u001b[1;32m     12\u001b[0m wavelet \u001b[38;5;241m=\u001b[39m \u001b[38;5;124m'\u001b[39m\u001b[38;5;124mhaar\u001b[39m\u001b[38;5;124m'\u001b[39m \u001b[38;5;66;03m# 也可以选择其他小波函数如'mexh', 'gaus8'等\u001b[39;00m\n\u001b[1;32m     13\u001b[0m scales \u001b[38;5;241m=\u001b[39m np\u001b[38;5;241m.\u001b[39mlinspace(scales\u001b[38;5;241m.\u001b[39mmin(), scales\u001b[38;5;241m.\u001b[39mmax(), \u001b[38;5;241m1000\u001b[39m)\n\u001b[0;32m---> 14\u001b[0m coef, freq \u001b[38;5;241m=\u001b[39m \u001b[43mpywt\u001b[49m\u001b[38;5;241;43m.\u001b[39;49m\u001b[43mcwt\u001b[49m\u001b[43m(\u001b[49m\u001b[43mx\u001b[49m\u001b[43m,\u001b[49m\u001b[43m \u001b[49m\u001b[43mscales\u001b[49m\u001b[43m,\u001b[49m\u001b[43m \u001b[49m\u001b[43mwavelet\u001b[49m\u001b[43m)\u001b[49m\n\u001b[1;32m     16\u001b[0m \u001b[38;5;66;03m# 绘制小波系数的幅值\u001b[39;00m\n\u001b[1;32m     17\u001b[0m plt\u001b[38;5;241m.\u001b[39mfigure(figsize\u001b[38;5;241m=\u001b[39m(\u001b[38;5;241m12\u001b[39m, \u001b[38;5;241m6\u001b[39m))\n",
      "File \u001b[0;32m~/localconda/envs/local/lib/python3.9/site-packages/pywt/_cwt.py:123\u001b[0m, in \u001b[0;36mcwt\u001b[0;34m(data, scales, wavelet, sampling_period, method, axis)\u001b[0m\n\u001b[1;32m    120\u001b[0m \u001b[38;5;28;01mif\u001b[39;00m \u001b[38;5;129;01mnot\u001b[39;00m np\u001b[38;5;241m.\u001b[39misscalar(axis):\n\u001b[1;32m    121\u001b[0m     \u001b[38;5;28;01mraise\u001b[39;00m np\u001b[38;5;241m.\u001b[39mAxisError(\u001b[38;5;124m\"\u001b[39m\u001b[38;5;124maxis must be a scalar.\u001b[39m\u001b[38;5;124m\"\u001b[39m)\n\u001b[0;32m--> 123\u001b[0m dt_out \u001b[38;5;241m=\u001b[39m dt_cplx \u001b[38;5;28;01mif\u001b[39;00m \u001b[43mwavelet\u001b[49m\u001b[38;5;241;43m.\u001b[39;49m\u001b[43mcomplex_cwt\u001b[49m \u001b[38;5;28;01melse\u001b[39;00m dt\n\u001b[1;32m    124\u001b[0m out \u001b[38;5;241m=\u001b[39m np\u001b[38;5;241m.\u001b[39mempty((np\u001b[38;5;241m.\u001b[39msize(scales),) \u001b[38;5;241m+\u001b[39m data\u001b[38;5;241m.\u001b[39mshape, dtype\u001b[38;5;241m=\u001b[39mdt_out)\n\u001b[1;32m    125\u001b[0m precision \u001b[38;5;241m=\u001b[39m \u001b[38;5;241m10\u001b[39m\n",
      "\u001b[0;31mAttributeError\u001b[0m: 'pywt._extensions._pywt.Wavelet' object has no attribute 'complex_cwt'"
     ]
    }
   ],
   "source": [
    "import numpy as np\n",
    "import matplotlib.pyplot as plt\n",
    "import pywt\n",
    "# central_frequency = 6#其中,central_frequency是所用小波函数的中心频率(对于Morlet小波,通常取6),dt是信号的采样周期(即1/50)。\n",
    "# dt = 1/50\n",
    "# frequencies = np.arange(1, 26)\n",
    "# scales = central_frequency / (frequencies * dt)\n",
    "# print(f\"建议的尺度范围: {scales.min():.2f} 到 {scales.max():.2f}\")\n",
    "x = linedata[:,0]\n",
    "\n",
    "# 选择小波函数和尺度范围\n",
    "wavelet = 'morl' # 也可以选择其他小波函数如'mexh', 'gaus8'等\n",
    "scales = np.linspace(scales.min(), scales.max(), 1000)\n",
    "coef, freq = pywt.cwt(x, scales, wavelet)\n",
    "\n",
    "# 绘制小波系数的幅值\n",
    "plt.figure(figsize=(12, 6))\n",
    "plt.imshow(np.abs(coef), aspect='auto', cmap='viridis', \n",
    "           extent=[t.min(), t.max(), freq.min(), freq.max()], \n",
    "           vmax=abs(coef).max(), vmin=-abs(coef).max())\n",
    "plt.ylim(freq.max(), freq.min())\n",
    "plt.yscale('log') # 对频率坐标取对数\n",
    "plt.ylabel('Frequency')\n",
    "plt.xlabel('Time')\n",
    "plt.colorbar()\n",
    "plt.show()"
   ]
  },
  {
   "cell_type": "code",
   "execution_count": 49,
   "id": "1ba2d6e2",
   "metadata": {},
   "outputs": [
    {
     "data": {
      "text/plain": [
       "(65, 48)"
      ]
     },
     "execution_count": 49,
     "metadata": {},
     "output_type": "execute_result"
    }
   ],
   "source": [
    "Z.real.shape"
   ]
  },
  {
   "cell_type": "code",
   "execution_count": 50,
   "id": "012aa286",
   "metadata": {},
   "outputs": [
    {
     "ename": "ValueError",
     "evalue": "too many values to unpack (expected 2)",
     "output_type": "error",
     "traceback": [
      "\u001b[0;31m---------------------------------------------------------------------------\u001b[0m",
      "\u001b[0;31mValueError\u001b[0m                                Traceback (most recent call last)",
      "Cell \u001b[0;32mIn[50], line 14\u001b[0m\n\u001b[1;32m     12\u001b[0m Z \u001b[38;5;241m=\u001b[39m np\u001b[38;5;241m.\u001b[39mabs(Z)\n\u001b[1;32m     13\u001b[0m \u001b[38;5;66;03m# 如下图所示\u001b[39;00m\n\u001b[0;32m---> 14\u001b[0m \u001b[43mplt\u001b[49m\u001b[38;5;241;43m.\u001b[39;49m\u001b[43mpcolormesh\u001b[49m\u001b[43m(\u001b[49m\u001b[43mt\u001b[49m\u001b[43m,\u001b[49m\u001b[43m \u001b[49m\u001b[43mf\u001b[49m\u001b[43m,\u001b[49m\u001b[43m \u001b[49m\u001b[43mZ\u001b[49m\u001b[43m,\u001b[49m\u001b[43m \u001b[49m\u001b[43mvmin\u001b[49m\u001b[43m \u001b[49m\u001b[38;5;241;43m=\u001b[39;49m\u001b[43m \u001b[49m\u001b[38;5;241;43m0\u001b[39;49m\u001b[43m,\u001b[49m\u001b[43m \u001b[49m\u001b[43mvmax\u001b[49m\u001b[43m \u001b[49m\u001b[38;5;241;43m=\u001b[39;49m\u001b[43m \u001b[49m\u001b[43mZ\u001b[49m\u001b[38;5;241;43m.\u001b[39;49m\u001b[43mmean\u001b[49m\u001b[43m(\u001b[49m\u001b[43m)\u001b[49m\u001b[38;5;241;43m*\u001b[39;49m\u001b[38;5;241;43m10\u001b[39;49m\u001b[43m)\u001b[49m\n",
      "File \u001b[0;32m~/localconda/envs/local/lib/python3.9/site-packages/matplotlib/pyplot.py:2730\u001b[0m, in \u001b[0;36mpcolormesh\u001b[0;34m(alpha, norm, cmap, vmin, vmax, shading, antialiased, data, *args, **kwargs)\u001b[0m\n\u001b[1;32m   2725\u001b[0m \u001b[38;5;129m@_copy_docstring_and_deprecators\u001b[39m(Axes\u001b[38;5;241m.\u001b[39mpcolormesh)\n\u001b[1;32m   2726\u001b[0m \u001b[38;5;28;01mdef\u001b[39;00m \u001b[38;5;21mpcolormesh\u001b[39m(\n\u001b[1;32m   2727\u001b[0m         \u001b[38;5;241m*\u001b[39margs, alpha\u001b[38;5;241m=\u001b[39m\u001b[38;5;28;01mNone\u001b[39;00m, norm\u001b[38;5;241m=\u001b[39m\u001b[38;5;28;01mNone\u001b[39;00m, cmap\u001b[38;5;241m=\u001b[39m\u001b[38;5;28;01mNone\u001b[39;00m, vmin\u001b[38;5;241m=\u001b[39m\u001b[38;5;28;01mNone\u001b[39;00m,\n\u001b[1;32m   2728\u001b[0m         vmax\u001b[38;5;241m=\u001b[39m\u001b[38;5;28;01mNone\u001b[39;00m, shading\u001b[38;5;241m=\u001b[39m\u001b[38;5;28;01mNone\u001b[39;00m, antialiased\u001b[38;5;241m=\u001b[39m\u001b[38;5;28;01mFalse\u001b[39;00m, data\u001b[38;5;241m=\u001b[39m\u001b[38;5;28;01mNone\u001b[39;00m,\n\u001b[1;32m   2729\u001b[0m         \u001b[38;5;241m*\u001b[39m\u001b[38;5;241m*\u001b[39mkwargs):\n\u001b[0;32m-> 2730\u001b[0m     __ret \u001b[38;5;241m=\u001b[39m \u001b[43mgca\u001b[49m\u001b[43m(\u001b[49m\u001b[43m)\u001b[49m\u001b[38;5;241;43m.\u001b[39;49m\u001b[43mpcolormesh\u001b[49m\u001b[43m(\u001b[49m\n\u001b[1;32m   2731\u001b[0m \u001b[43m        \u001b[49m\u001b[38;5;241;43m*\u001b[39;49m\u001b[43margs\u001b[49m\u001b[43m,\u001b[49m\u001b[43m \u001b[49m\u001b[43malpha\u001b[49m\u001b[38;5;241;43m=\u001b[39;49m\u001b[43malpha\u001b[49m\u001b[43m,\u001b[49m\u001b[43m \u001b[49m\u001b[43mnorm\u001b[49m\u001b[38;5;241;43m=\u001b[39;49m\u001b[43mnorm\u001b[49m\u001b[43m,\u001b[49m\u001b[43m \u001b[49m\u001b[43mcmap\u001b[49m\u001b[38;5;241;43m=\u001b[39;49m\u001b[43mcmap\u001b[49m\u001b[43m,\u001b[49m\u001b[43m \u001b[49m\u001b[43mvmin\u001b[49m\u001b[38;5;241;43m=\u001b[39;49m\u001b[43mvmin\u001b[49m\u001b[43m,\u001b[49m\n\u001b[1;32m   2732\u001b[0m \u001b[43m        \u001b[49m\u001b[43mvmax\u001b[49m\u001b[38;5;241;43m=\u001b[39;49m\u001b[43mvmax\u001b[49m\u001b[43m,\u001b[49m\u001b[43m \u001b[49m\u001b[43mshading\u001b[49m\u001b[38;5;241;43m=\u001b[39;49m\u001b[43mshading\u001b[49m\u001b[43m,\u001b[49m\u001b[43m \u001b[49m\u001b[43mantialiased\u001b[49m\u001b[38;5;241;43m=\u001b[39;49m\u001b[43mantialiased\u001b[49m\u001b[43m,\u001b[49m\n\u001b[1;32m   2733\u001b[0m \u001b[43m        \u001b[49m\u001b[38;5;241;43m*\u001b[39;49m\u001b[38;5;241;43m*\u001b[39;49m\u001b[43m(\u001b[49m\u001b[43m{\u001b[49m\u001b[38;5;124;43m\"\u001b[39;49m\u001b[38;5;124;43mdata\u001b[39;49m\u001b[38;5;124;43m\"\u001b[39;49m\u001b[43m:\u001b[49m\u001b[43m \u001b[49m\u001b[43mdata\u001b[49m\u001b[43m}\u001b[49m\u001b[43m \u001b[49m\u001b[38;5;28;43;01mif\u001b[39;49;00m\u001b[43m \u001b[49m\u001b[43mdata\u001b[49m\u001b[43m \u001b[49m\u001b[38;5;129;43;01mis\u001b[39;49;00m\u001b[43m \u001b[49m\u001b[38;5;129;43;01mnot\u001b[39;49;00m\u001b[43m \u001b[49m\u001b[38;5;28;43;01mNone\u001b[39;49;00m\u001b[43m \u001b[49m\u001b[38;5;28;43;01melse\u001b[39;49;00m\u001b[43m \u001b[49m\u001b[43m{\u001b[49m\u001b[43m}\u001b[49m\u001b[43m)\u001b[49m\u001b[43m,\u001b[49m\u001b[43m \u001b[49m\u001b[38;5;241;43m*\u001b[39;49m\u001b[38;5;241;43m*\u001b[39;49m\u001b[43mkwargs\u001b[49m\u001b[43m)\u001b[49m\n\u001b[1;32m   2734\u001b[0m     sci(__ret)\n\u001b[1;32m   2735\u001b[0m     \u001b[38;5;28;01mreturn\u001b[39;00m __ret\n",
      "File \u001b[0;32m~/localconda/envs/local/lib/python3.9/site-packages/matplotlib/__init__.py:1412\u001b[0m, in \u001b[0;36m_preprocess_data.<locals>.inner\u001b[0;34m(ax, data, *args, **kwargs)\u001b[0m\n\u001b[1;32m   1409\u001b[0m \u001b[38;5;129m@functools\u001b[39m\u001b[38;5;241m.\u001b[39mwraps(func)\n\u001b[1;32m   1410\u001b[0m \u001b[38;5;28;01mdef\u001b[39;00m \u001b[38;5;21minner\u001b[39m(ax, \u001b[38;5;241m*\u001b[39margs, data\u001b[38;5;241m=\u001b[39m\u001b[38;5;28;01mNone\u001b[39;00m, \u001b[38;5;241m*\u001b[39m\u001b[38;5;241m*\u001b[39mkwargs):\n\u001b[1;32m   1411\u001b[0m     \u001b[38;5;28;01mif\u001b[39;00m data \u001b[38;5;129;01mis\u001b[39;00m \u001b[38;5;28;01mNone\u001b[39;00m:\n\u001b[0;32m-> 1412\u001b[0m         \u001b[38;5;28;01mreturn\u001b[39;00m \u001b[43mfunc\u001b[49m\u001b[43m(\u001b[49m\u001b[43max\u001b[49m\u001b[43m,\u001b[49m\u001b[43m \u001b[49m\u001b[38;5;241;43m*\u001b[39;49m\u001b[38;5;28;43mmap\u001b[39;49m\u001b[43m(\u001b[49m\u001b[43msanitize_sequence\u001b[49m\u001b[43m,\u001b[49m\u001b[43m \u001b[49m\u001b[43margs\u001b[49m\u001b[43m)\u001b[49m\u001b[43m,\u001b[49m\u001b[43m \u001b[49m\u001b[38;5;241;43m*\u001b[39;49m\u001b[38;5;241;43m*\u001b[39;49m\u001b[43mkwargs\u001b[49m\u001b[43m)\u001b[49m\n\u001b[1;32m   1414\u001b[0m     bound \u001b[38;5;241m=\u001b[39m new_sig\u001b[38;5;241m.\u001b[39mbind(ax, \u001b[38;5;241m*\u001b[39margs, \u001b[38;5;241m*\u001b[39m\u001b[38;5;241m*\u001b[39mkwargs)\n\u001b[1;32m   1415\u001b[0m     auto_label \u001b[38;5;241m=\u001b[39m (bound\u001b[38;5;241m.\u001b[39marguments\u001b[38;5;241m.\u001b[39mget(label_namer)\n\u001b[1;32m   1416\u001b[0m                   \u001b[38;5;129;01mor\u001b[39;00m bound\u001b[38;5;241m.\u001b[39mkwargs\u001b[38;5;241m.\u001b[39mget(label_namer))\n",
      "File \u001b[0;32m~/localconda/envs/local/lib/python3.9/site-packages/matplotlib/axes/_axes.py:6058\u001b[0m, in \u001b[0;36mAxes.pcolormesh\u001b[0;34m(self, alpha, norm, cmap, vmin, vmax, shading, antialiased, *args, **kwargs)\u001b[0m\n\u001b[1;32m   6055\u001b[0m shading \u001b[38;5;241m=\u001b[39m shading\u001b[38;5;241m.\u001b[39mlower()\n\u001b[1;32m   6056\u001b[0m kwargs\u001b[38;5;241m.\u001b[39msetdefault(\u001b[38;5;124m'\u001b[39m\u001b[38;5;124medgecolors\u001b[39m\u001b[38;5;124m'\u001b[39m, \u001b[38;5;124m'\u001b[39m\u001b[38;5;124mnone\u001b[39m\u001b[38;5;124m'\u001b[39m)\n\u001b[0;32m-> 6058\u001b[0m X, Y, C, shading \u001b[38;5;241m=\u001b[39m \u001b[38;5;28;43mself\u001b[39;49m\u001b[38;5;241;43m.\u001b[39;49m\u001b[43m_pcolorargs\u001b[49m\u001b[43m(\u001b[49m\u001b[38;5;124;43m'\u001b[39;49m\u001b[38;5;124;43mpcolormesh\u001b[39;49m\u001b[38;5;124;43m'\u001b[39;49m\u001b[43m,\u001b[49m\u001b[43m \u001b[49m\u001b[38;5;241;43m*\u001b[39;49m\u001b[43margs\u001b[49m\u001b[43m,\u001b[49m\n\u001b[1;32m   6059\u001b[0m \u001b[43m                                    \u001b[49m\u001b[43mshading\u001b[49m\u001b[38;5;241;43m=\u001b[39;49m\u001b[43mshading\u001b[49m\u001b[43m,\u001b[49m\u001b[43m \u001b[49m\u001b[43mkwargs\u001b[49m\u001b[38;5;241;43m=\u001b[39;49m\u001b[43mkwargs\u001b[49m\u001b[43m)\u001b[49m\n\u001b[1;32m   6060\u001b[0m coords \u001b[38;5;241m=\u001b[39m np\u001b[38;5;241m.\u001b[39mstack([X, Y], axis\u001b[38;5;241m=\u001b[39m\u001b[38;5;241m-\u001b[39m\u001b[38;5;241m1\u001b[39m)\n\u001b[1;32m   6061\u001b[0m \u001b[38;5;66;03m# convert to one dimensional array\u001b[39;00m\n",
      "File \u001b[0;32m~/localconda/envs/local/lib/python3.9/site-packages/matplotlib/axes/_axes.py:5543\u001b[0m, in \u001b[0;36mAxes._pcolorargs\u001b[0;34m(self, funcname, shading, *args, **kwargs)\u001b[0m\n\u001b[1;32m   5541\u001b[0m         \u001b[38;5;28;01mif\u001b[39;00m \u001b[38;5;28misinstance\u001b[39m(Y, np\u001b[38;5;241m.\u001b[39mma\u001b[38;5;241m.\u001b[39mcore\u001b[38;5;241m.\u001b[39mMaskedArray):\n\u001b[1;32m   5542\u001b[0m             Y \u001b[38;5;241m=\u001b[39m Y\u001b[38;5;241m.\u001b[39mdata\n\u001b[0;32m-> 5543\u001b[0m     nrows, ncols \u001b[38;5;241m=\u001b[39m C\u001b[38;5;241m.\u001b[39mshape\n\u001b[1;32m   5544\u001b[0m \u001b[38;5;28;01melse\u001b[39;00m:\n\u001b[1;32m   5545\u001b[0m     \u001b[38;5;28;01mraise\u001b[39;00m \u001b[38;5;167;01mTypeError\u001b[39;00m(\u001b[38;5;124mf\u001b[39m\u001b[38;5;124m'\u001b[39m\u001b[38;5;132;01m{\u001b[39;00mfuncname\u001b[38;5;132;01m}\u001b[39;00m\u001b[38;5;124m() takes 1 or 3 positional arguments \u001b[39m\u001b[38;5;124m'\u001b[39m\n\u001b[1;32m   5546\u001b[0m                     \u001b[38;5;124mf\u001b[39m\u001b[38;5;124m'\u001b[39m\u001b[38;5;124mbut \u001b[39m\u001b[38;5;132;01m{\u001b[39;00m\u001b[38;5;28mlen\u001b[39m(args)\u001b[38;5;132;01m}\u001b[39;00m\u001b[38;5;124m were given\u001b[39m\u001b[38;5;124m'\u001b[39m)\n",
      "\u001b[0;31mValueError\u001b[0m: too many values to unpack (expected 2)"
     ]
    },
    {
     "data": {
      "image/png": "[encoded data removed]",
      "text/plain": [
       "<Figure size 640x480 with 1 Axes>"
      ]
     },
     "metadata": {},
     "output_type": "display_data"
    }
   ],
   "source": [
    "%matplotlib inline\n",
    "from scipy.signal import stft\n",
    "import numpy as np\n",
    "import matplotlib.pyplot as plt\n",
    "\n",
    "\n",
    "\n",
    "fs = 50\n",
    "window = 'hann'\n",
    "n  = 128\n",
    "# STFT\n",
    "f, t, Z = stft(linedata, fs=fs, window=window, nperseg=n,axis=0)\n",
    "# 求幅值\n",
    "Z = np.abs(Z)\n",
    "# 如下图所示\n",
    "plt.pcolormesh(t, f, Z, vmin = 0, vmax = Z.mean()*10)"
   ]
  },
  {
   "cell_type": "code",
   "execution_count": 9,
   "id": "39ad8ab7",
   "metadata": {},
   "outputs": [
    {
     "data": {
      "text/plain": [
       "array([[-660., -638., -470.],\n",
       "       [-635., -589., -423.],\n",
       "       [-638., -520., -387.],\n",
       "       ...,\n",
       "       [-652., -469., -352.],\n",
       "       [-627., -503., -365.],\n",
       "       [-637., -510., -276.]], dtype=float32)"
      ]
     },
     "execution_count": 9,
     "metadata": {},
     "output_type": "execute_result"
    }
   ],
   "source": [
    "linedata"
   ]
  },
  {
   "cell_type": "code",
   "execution_count": 13,
   "id": "addcffa2",
   "metadata": {},
   "outputs": [],
   "source": [
    "df.rename(columns={\n",
    "        \"p_pick\": \"p_arrival_sample\"  ,\n",
    "        \"s_pick\": \"s_arrival_sample\"  ,\n",
    "        \"st_mag\": \"source_magnitude\",\n",
    "        \"dis\"   : \"source_distance_km\",\n",
    "        \"baz\"   : \"back_azimuth_deg\",\n",
    "        \"key\"   : \"trace_name\",\n",
    "        \"group\" : \"ev_id\" #<<< --- 古早的这一行弄反了\n",
    "    }, inplace=True)\n"
   ]
  },
  {
   "cell_type": "code",
   "execution_count": 14,
   "id": "bf8426f2",
   "metadata": {},
   "outputs": [],
   "source": [
    "df = df[df['source_distance_km']<110]"
   ]
  },
  {
   "cell_type": "code",
   "execution_count": 17,
   "id": "4b2179db",
   "metadata": {},
   "outputs": [],
   "source": [
    "for key in ['source_magnitude','back_azimuth_deg','source_distance_km','E_S_amplitude_snr','N_S_amplitude_snr','Z_S_amplitude_snr']:\n",
    "    df = df[pd.to_numeric(df[key], errors='coerce').notna()]\n",
    "    df = df[df[key].notna()]"
   ]
  },
  {
   "cell_type": "code",
   "execution_count": 20,
   "id": "af078048",
   "metadata": {},
   "outputs": [],
   "source": [
    "df['back_azimuth_deg']=df['back_azimuth_deg'].values.astype('float')"
   ]
  },
  {
   "cell_type": "code",
   "execution_count": 21,
   "id": "d5070d8d",
   "metadata": {
    "code_folding": [],
    "scrolled": true
   },
   "outputs": [
    {
     "data": {
      "application/vnd.jupyter.widget-view+json": {
       "model_id": "ede40472c1f840aca49310d7014b524f",
       "version_major": 2,
       "version_minor": 0
      },
      "text/plain": [
       "  0%|          | 0/1747384 [00:00<?, ?it/s]"
      ]
     },
     "metadata": {},
     "output_type": "display_data"
    },
    {
     "ename": "KeyboardInterrupt",
     "evalue": "",
     "output_type": "error",
     "traceback": [
      "\u001b[0;31m---------------------------------------------------------------------------\u001b[0m",
      "\u001b[0;31mKeyboardInterrupt\u001b[0m                         Traceback (most recent call last)",
      "Cell \u001b[0;32mIn[21], line 8\u001b[0m\n\u001b[1;32m      6\u001b[0m \u001b[38;5;28;01mfor\u001b[39;00m i \u001b[38;5;129;01min\u001b[39;00m tqdm(\u001b[38;5;28mrange\u001b[39m(\u001b[38;5;28mlen\u001b[39m(df))):\n\u001b[1;32m      7\u001b[0m     dataset \u001b[38;5;241m=\u001b[39m df\u001b[38;5;241m.\u001b[39miloc[i]\n\u001b[0;32m----> 8\u001b[0m     linedata\u001b[38;5;241m=\u001b[39m \u001b[43mdtfl\u001b[49m\u001b[43m[\u001b[49m\u001b[43mdataset\u001b[49m\u001b[43m[\u001b[49m\u001b[38;5;124;43m'\u001b[39;49m\u001b[38;5;124;43mtrace_name\u001b[39;49m\u001b[38;5;124;43m'\u001b[39;49m\u001b[43m]\u001b[49m\u001b[43m]\u001b[49m\n\u001b[1;32m      9\u001b[0m     trace_z \u001b[38;5;241m=\u001b[39m Trace(data\u001b[38;5;241m=\u001b[39mlinedata[\u001b[38;5;241m.\u001b[39m\u001b[38;5;241m.\u001b[39m\u001b[38;5;241m.\u001b[39m,\u001b[38;5;241m0\u001b[39m], header\u001b[38;5;241m=\u001b[39mstats\u001b[38;5;241m|\u001b[39m{\u001b[38;5;124m'\u001b[39m\u001b[38;5;124mchannel\u001b[39m\u001b[38;5;124m'\u001b[39m:\u001b[38;5;124m'\u001b[39m\u001b[38;5;124mZ\u001b[39m\u001b[38;5;124m'\u001b[39m})\n\u001b[1;32m     10\u001b[0m     trace_n \u001b[38;5;241m=\u001b[39m Trace(data\u001b[38;5;241m=\u001b[39mlinedata[\u001b[38;5;241m.\u001b[39m\u001b[38;5;241m.\u001b[39m\u001b[38;5;241m.\u001b[39m,\u001b[38;5;241m1\u001b[39m], header\u001b[38;5;241m=\u001b[39mstats\u001b[38;5;241m|\u001b[39m{\u001b[38;5;124m'\u001b[39m\u001b[38;5;124mchannel\u001b[39m\u001b[38;5;124m'\u001b[39m:\u001b[38;5;124m'\u001b[39m\u001b[38;5;124mN\u001b[39m\u001b[38;5;124m'\u001b[39m})\n",
      "File \u001b[0;32m/mnt/data/ai4earth/zhangtianning/projects/AI4Q/dataset/resource/load_resource.py:71\u001b[0m, in \u001b[0;36mDiTingHDF5Loader.__getitem__\u001b[0;34m(self, name)\u001b[0m\n\u001b[1;32m     70\u001b[0m \u001b[38;5;28;01mdef\u001b[39;00m \u001b[38;5;21m__getitem__\u001b[39m(\u001b[38;5;28mself\u001b[39m, name):\n\u001b[0;32m---> 71\u001b[0m     key  \u001b[38;5;241m=\u001b[39m \u001b[38;5;28;43mself\u001b[39;49m\u001b[38;5;241;43m.\u001b[39;49m\u001b[43mforname\u001b[49m\u001b[43m(\u001b[49m\u001b[43mname\u001b[49m\u001b[43m)\u001b[49m\n\u001b[1;32m     72\u001b[0m     correct_name \u001b[38;5;241m=\u001b[39m \u001b[38;5;28mstr\u001b[39m(\u001b[38;5;28mfloat\u001b[39m(name))\n\u001b[1;32m     73\u001b[0m     part \u001b[38;5;241m=\u001b[39m \u001b[38;5;28mself\u001b[39m\u001b[38;5;241m.\u001b[39mname2part[correct_name]\n",
      "File \u001b[0;32m/mnt/data/ai4earth/zhangtianning/projects/AI4Q/dataset/resource/load_resource.py:65\u001b[0m, in \u001b[0;36mDiTingHDF5Loader.forname\u001b[0;34m(self, name)\u001b[0m\n\u001b[1;32m     63\u001b[0m     name \u001b[38;5;241m=\u001b[39m \u001b[38;5;28mstr\u001b[39m(name)\n\u001b[1;32m     64\u001b[0m     key_correct \u001b[38;5;241m=\u001b[39m name\u001b[38;5;241m.\u001b[39msplit(\u001b[38;5;124m'\u001b[39m\u001b[38;5;124m.\u001b[39m\u001b[38;5;124m'\u001b[39m)\n\u001b[0;32m---> 65\u001b[0m     key \u001b[38;5;241m=\u001b[39m \u001b[43mkey_correct\u001b[49m\u001b[43m[\u001b[49m\u001b[38;5;241;43m0\u001b[39;49m\u001b[43m]\u001b[49m\u001b[38;5;241;43m.\u001b[39;49m\u001b[43mrjust\u001b[49m\u001b[43m(\u001b[49m\u001b[38;5;241;43m6\u001b[39;49m\u001b[43m,\u001b[49m\u001b[38;5;124;43m'\u001b[39;49m\u001b[38;5;124;43m0\u001b[39;49m\u001b[38;5;124;43m'\u001b[39;49m\u001b[43m)\u001b[49m\u001b[43m \u001b[49m\u001b[38;5;241;43m+\u001b[39;49m\u001b[43m \u001b[49m\u001b[38;5;124;43m'\u001b[39;49m\u001b[38;5;124;43m.\u001b[39;49m\u001b[38;5;124;43m'\u001b[39;49m \u001b[38;5;241m+\u001b[39m key_correct[\u001b[38;5;241m1\u001b[39m]\u001b[38;5;241m.\u001b[39mljust(\u001b[38;5;241m4\u001b[39m,\u001b[38;5;124m'\u001b[39m\u001b[38;5;124m0\u001b[39m\u001b[38;5;124m'\u001b[39m)\n\u001b[1;32m     66\u001b[0m \u001b[38;5;28;01melse\u001b[39;00m:\n\u001b[1;32m     67\u001b[0m     key \u001b[38;5;241m=\u001b[39m name\n",
      "\u001b[0;31mKeyboardInterrupt\u001b[0m: "
     ]
    }
   ],
   "source": [
    "theory_error = []\n",
    "preded_angle = []\n",
    "stats = {'npts': 9000, 'sampling_rate': 50.0,'starttime': UTCDateTime(2000, 1, 1),}\n",
    "fs = stats['sampling_rate']\n",
    "generic_start_time = stats['starttime']\n",
    "for i in tqdm(range(len(df))):\n",
    "    dataset = df.iloc[i]\n",
    "    linedata= dtfl[dataset['trace_name']]\n",
    "    trace_z = Trace(data=linedata[...,0], header=stats|{'channel':'Z'})\n",
    "    trace_n = Trace(data=linedata[...,1], header=stats|{'channel':'N'})\n",
    "    trace_e = Trace(data=linedata[...,2], header=stats|{'channel':'E'})\n",
    "    st = Stream(traces=[trace_z, trace_n, trace_e])\n",
    "    before_p= 0.5\n",
    "    after_p = 1.0\n",
    "    win_len = after_p + before_p\n",
    "    polarization = polarization_analysis(\n",
    "        st,\n",
    "        win_len = win_len,\n",
    "        win_frac= 1/(win_len*fs) ,\n",
    "        frqlow  = 2 , # < unnecessary for flinn method  \n",
    "        frqhigh = 20, # < unnecessary for flinn method\n",
    "        stime   = generic_start_time + dataset.p_arrival_sample/fs - before_p,\n",
    "        etime   = generic_start_time + dataset.p_arrival_sample/fs + after_p,\n",
    "        method  ='flinn'\n",
    "    )\n",
    "\n",
    "    pol = polarization\n",
    "    backazimuth= pol['azimuth'][0]+180\n",
    "    preded_angle.append(backazimuth)\n",
    "    theory_error.append(1- np.cos((backazimuth - dataset.back_azimuth_deg)/180*np.pi))"
   ]
  },
  {
   "cell_type": "code",
   "execution_count": 23,
   "id": "50553c2e",
   "metadata": {},
   "outputs": [],
   "source": [
    "new_df = df.iloc[:len(theory_error)]"
   ]
  },
  {
   "cell_type": "code",
   "execution_count": 25,
   "id": "9c48fe93",
   "metadata": {},
   "outputs": [
    {
     "name": "stderr",
     "output_type": "stream",
     "text": [
      "/tmp/ipykernel_39378/4011092499.py:1: SettingWithCopyWarning: \n",
      "A value is trying to be set on a copy of a slice from a DataFrame.\n",
      "Try using .loc[row_indexer,col_indexer] = value instead\n",
      "\n",
      "See the caveats in the documentation: https://pandas.pydata.org/pandas-docs/stable/user_guide/indexing.html#returning-a-view-versus-a-copy\n",
      "  new_df['azimuth'] = np.array(preded_angle) - 180\n"
     ]
    }
   ],
   "source": [
    "new_df['azimuth'] = np.array(preded_angle) - 180"
   ]
  },
  {
   "cell_type": "code",
   "execution_count": 30,
   "id": "48492b99",
   "metadata": {},
   "outputs": [],
   "source": [
    "new_df = new_df[new_df['p_motion'].isin(['U','R'])]"
   ]
  },
  {
   "cell_type": "code",
   "execution_count": 66,
   "id": "e2d23551",
   "metadata": {},
   "outputs": [
    {
     "name": "stderr",
     "output_type": "stream",
     "text": [
      "/tmp/ipykernel_39378/950218550.py:1: SettingWithCopyWarning: \n",
      "A value is trying to be set on a copy of a slice from a DataFrame.\n",
      "Try using .loc[row_indexer,col_indexer] = value instead\n",
      "\n",
      "See the caveats in the documentation: https://pandas.pydata.org/pandas-docs/stable/user_guide/indexing.html#returning-a-view-versus-a-copy\n",
      "  new_df['backazimuth'] = new_df['azimuth'] #+ 180#*(new_df['p_motion'].values=='U').astype('int')\n"
     ]
    }
   ],
   "source": [
    "new_df['backazimuth'] = new_df['azimuth'] #+ 180#*(new_df['p_motion'].values=='U').astype('int')"
   ]
  },
  {
   "cell_type": "code",
   "execution_count": 67,
   "id": "fb64977d",
   "metadata": {},
   "outputs": [
    {
     "data": {
      "text/plain": [
       "array([2.28827523e-01, 1.63769080e-03, 1.21143686e+00, ...,\n",
       "       1.97289242e+00, 8.93944789e-02, 6.25173051e-02])"
      ]
     },
     "execution_count": 67,
     "metadata": {},
     "output_type": "execute_result"
    }
   ],
   "source": [
    "aa = new_df[new_df['p_motion']=='U']\n",
    "theory_error = 1- np.cos((aa['backazimuth'].values - aa['back_azimuth_deg'].values)/180*np.pi)\n",
    "theory_error"
   ]
  },
  {
   "cell_type": "code",
   "execution_count": 68,
   "id": "02bf8f0c",
   "metadata": {},
   "outputs": [
    {
     "data": {
      "text/plain": [
       "(array([2029.,  403.,  228.,  166.,  159.,  169.,  146.,  253.,  376.,\n",
       "        1981.]),\n",
       " array([1.22861166e-09, 2.00000001e-01, 4.00000000e-01, 6.00000000e-01,\n",
       "        8.00000000e-01, 9.99999999e-01, 1.20000000e+00, 1.40000000e+00,\n",
       "        1.60000000e+00, 1.80000000e+00, 2.00000000e+00]),\n",
       " <BarContainer object of 10 artists>)"
      ]
     },
     "execution_count": 68,
     "metadata": {},
     "output_type": "execute_result"
    },
    {
     "data": {
      "image/png": "[encoded data removed]",
      "text/plain": [
       "<Figure size 640x480 with 1 Axes>"
      ]
     },
     "metadata": {},
     "output_type": "display_data"
    }
   ],
   "source": [
    "%matplotlib inline\n",
    "plt.hist(theory_error)"
   ]
  },
  {
   "cell_type": "markdown",
   "id": "c719d24c",
   "metadata": {},
   "source": [
    "# STEAD"
   ]
  },
  {
   "cell_type": "code",
   "execution_count": 5,
   "id": "4b152426",
   "metadata": {},
   "outputs": [],
   "source": [
    "import pandas as pd"
   ]
  },
  {
   "cell_type": "code",
   "execution_count": 6,
   "id": "5bd7988a",
   "metadata": {},
   "outputs": [],
   "source": [
    "import h5py"
   ]
  },
  {
   "cell_type": "code",
   "execution_count": 11,
   "id": "a34114bf",
   "metadata": {},
   "outputs": [],
   "source": [
    "df = pd.read_csv('datasets/STEAD/BDLEELSSO/trace.fast.csv')\n",
    "dtfl = h5py.File('datasets/STEAD/stead.hdf5','r')"
   ]
  },
  {
   "cell_type": "code",
   "execution_count": 16,
   "id": "cc146d6f",
   "metadata": {
    "scrolled": true
   },
   "outputs": [
    {
     "data": {
      "application/vnd.jupyter.widget-view+json": {
       "model_id": "da6d33a333c946e29f4f8869f59f2558",
       "version_major": 2,
       "version_minor": 0
      },
      "text/plain": [
       "  0%|          | 0/147013 [00:00<?, ?it/s]"
      ]
     },
     "metadata": {},
     "output_type": "display_data"
    },
    {
     "ename": "KeyboardInterrupt",
     "evalue": "",
     "output_type": "error",
     "traceback": [
      "\u001b[0;31m---------------------------------------------------------------------------\u001b[0m",
      "\u001b[0;31mKeyboardInterrupt\u001b[0m                         Traceback (most recent call last)",
      "Cell \u001b[0;32mIn[16], line 8\u001b[0m\n\u001b[1;32m      6\u001b[0m \u001b[38;5;28;01mfor\u001b[39;00m i \u001b[38;5;129;01min\u001b[39;00m tqdm(\u001b[38;5;28mrange\u001b[39m(\u001b[38;5;28mlen\u001b[39m(df))):\n\u001b[1;32m      7\u001b[0m     dataset \u001b[38;5;241m=\u001b[39m df\u001b[38;5;241m.\u001b[39miloc[i]\n\u001b[0;32m----> 8\u001b[0m     linedata\u001b[38;5;241m=\u001b[39m \u001b[43mdtfl\u001b[49m\u001b[38;5;241;43m.\u001b[39;49m\u001b[43mget\u001b[49m\u001b[43m(\u001b[49m\u001b[38;5;124;43m'\u001b[39;49m\u001b[38;5;124;43mdata/\u001b[39;49m\u001b[38;5;124;43m'\u001b[39;49m\u001b[38;5;241;43m+\u001b[39;49m\u001b[38;5;28;43mstr\u001b[39;49m\u001b[43m(\u001b[49m\u001b[43mdataset\u001b[49m\u001b[43m[\u001b[49m\u001b[38;5;124;43m'\u001b[39;49m\u001b[38;5;124;43mtrace_name\u001b[39;49m\u001b[38;5;124;43m'\u001b[39;49m\u001b[43m]\u001b[49m\u001b[43m)\u001b[49m\u001b[43m)\u001b[49m[()]\n\u001b[1;32m      9\u001b[0m     trace_e \u001b[38;5;241m=\u001b[39m Trace(data\u001b[38;5;241m=\u001b[39mlinedata[\u001b[38;5;241m.\u001b[39m\u001b[38;5;241m.\u001b[39m\u001b[38;5;241m.\u001b[39m,\u001b[38;5;241m0\u001b[39m], header\u001b[38;5;241m=\u001b[39mstats\u001b[38;5;241m|\u001b[39m{\u001b[38;5;124m'\u001b[39m\u001b[38;5;124mchannel\u001b[39m\u001b[38;5;124m'\u001b[39m:\u001b[38;5;124m'\u001b[39m\u001b[38;5;124mE\u001b[39m\u001b[38;5;124m'\u001b[39m})\n\u001b[1;32m     10\u001b[0m     trace_n \u001b[38;5;241m=\u001b[39m Trace(data\u001b[38;5;241m=\u001b[39mlinedata[\u001b[38;5;241m.\u001b[39m\u001b[38;5;241m.\u001b[39m\u001b[38;5;241m.\u001b[39m,\u001b[38;5;241m1\u001b[39m], header\u001b[38;5;241m=\u001b[39mstats\u001b[38;5;241m|\u001b[39m{\u001b[38;5;124m'\u001b[39m\u001b[38;5;124mchannel\u001b[39m\u001b[38;5;124m'\u001b[39m:\u001b[38;5;124m'\u001b[39m\u001b[38;5;124mN\u001b[39m\u001b[38;5;124m'\u001b[39m})\n",
      "File \u001b[0;32m~/.conda/envs/pytorch/lib/python3.9/site-packages/h5py/_hl/group.py:400\u001b[0m, in \u001b[0;36mGroup.get\u001b[0;34m(self, name, default, getclass, getlink)\u001b[0m\n\u001b[1;32m    398\u001b[0m \u001b[38;5;28;01mif\u001b[39;00m \u001b[38;5;129;01mnot\u001b[39;00m (getclass \u001b[38;5;129;01mor\u001b[39;00m getlink):\n\u001b[1;32m    399\u001b[0m     \u001b[38;5;28;01mtry\u001b[39;00m:\n\u001b[0;32m--> 400\u001b[0m         \u001b[38;5;28;01mreturn\u001b[39;00m \u001b[38;5;28;43mself\u001b[39;49m\u001b[43m[\u001b[49m\u001b[43mname\u001b[49m\u001b[43m]\u001b[49m\n\u001b[1;32m    401\u001b[0m     \u001b[38;5;28;01mexcept\u001b[39;00m \u001b[38;5;167;01mKeyError\u001b[39;00m:\n\u001b[1;32m    402\u001b[0m         \u001b[38;5;28;01mreturn\u001b[39;00m default\n",
      "File \u001b[0;32mh5py/_objects.pyx:54\u001b[0m, in \u001b[0;36mh5py._objects.with_phil.wrapper\u001b[0;34m()\u001b[0m\n",
      "File \u001b[0;32mh5py/_objects.pyx:55\u001b[0m, in \u001b[0;36mh5py._objects.with_phil.wrapper\u001b[0;34m()\u001b[0m\n",
      "File \u001b[0;32m~/.conda/envs/pytorch/lib/python3.9/site-packages/h5py/_hl/group.py:357\u001b[0m, in \u001b[0;36mGroup.__getitem__\u001b[0;34m(self, name)\u001b[0m\n\u001b[1;32m    355\u001b[0m         \u001b[38;5;28;01mraise\u001b[39;00m \u001b[38;5;167;01mValueError\u001b[39;00m(\u001b[38;5;124m\"\u001b[39m\u001b[38;5;124mInvalid HDF5 object reference\u001b[39m\u001b[38;5;124m\"\u001b[39m)\n\u001b[1;32m    356\u001b[0m \u001b[38;5;28;01melif\u001b[39;00m \u001b[38;5;28misinstance\u001b[39m(name, (\u001b[38;5;28mbytes\u001b[39m, \u001b[38;5;28mstr\u001b[39m)):\n\u001b[0;32m--> 357\u001b[0m     oid \u001b[38;5;241m=\u001b[39m \u001b[43mh5o\u001b[49m\u001b[38;5;241;43m.\u001b[39;49m\u001b[43mopen\u001b[49m\u001b[43m(\u001b[49m\u001b[38;5;28;43mself\u001b[39;49m\u001b[38;5;241;43m.\u001b[39;49m\u001b[43mid\u001b[49m\u001b[43m,\u001b[49m\u001b[43m \u001b[49m\u001b[38;5;28;43mself\u001b[39;49m\u001b[38;5;241;43m.\u001b[39;49m\u001b[43m_e\u001b[49m\u001b[43m(\u001b[49m\u001b[43mname\u001b[49m\u001b[43m)\u001b[49m\u001b[43m,\u001b[49m\u001b[43m \u001b[49m\u001b[43mlapl\u001b[49m\u001b[38;5;241;43m=\u001b[39;49m\u001b[38;5;28;43mself\u001b[39;49m\u001b[38;5;241;43m.\u001b[39;49m\u001b[43m_lapl\u001b[49m\u001b[43m)\u001b[49m\n\u001b[1;32m    358\u001b[0m \u001b[38;5;28;01melse\u001b[39;00m:\n\u001b[1;32m    359\u001b[0m     \u001b[38;5;28;01mraise\u001b[39;00m \u001b[38;5;167;01mTypeError\u001b[39;00m(\u001b[38;5;124m\"\u001b[39m\u001b[38;5;124mAccessing a group is done with bytes or str, \u001b[39m\u001b[38;5;124m\"\u001b[39m\n\u001b[1;32m    360\u001b[0m                     \u001b[38;5;124m\"\u001b[39m\u001b[38;5;124mnot \u001b[39m\u001b[38;5;132;01m{}\u001b[39;00m\u001b[38;5;124m\"\u001b[39m\u001b[38;5;241m.\u001b[39mformat(\u001b[38;5;28mtype\u001b[39m(name)))\n",
      "File \u001b[0;32mh5py/_objects.pyx:54\u001b[0m, in \u001b[0;36mh5py._objects.with_phil.wrapper\u001b[0;34m()\u001b[0m\n",
      "File \u001b[0;32mh5py/_objects.pyx:55\u001b[0m, in \u001b[0;36mh5py._objects.with_phil.wrapper\u001b[0;34m()\u001b[0m\n",
      "File \u001b[0;32mh5py/h5o.pyx:190\u001b[0m, in \u001b[0;36mh5py.h5o.open\u001b[0;34m()\u001b[0m\n",
      "File \u001b[0;32mh5py/h5i.pyx:43\u001b[0m, in \u001b[0;36mh5py.h5i.wrap_identifier\u001b[0;34m()\u001b[0m\n",
      "File \u001b[0;32m<frozen importlib._bootstrap>:398\u001b[0m, in \u001b[0;36mparent\u001b[0;34m(self)\u001b[0m\n",
      "\u001b[0;31mKeyboardInterrupt\u001b[0m: "
     ]
    }
   ],
   "source": [
    "theory_error = []\n",
    "preded_angle = []\n",
    "stats = {'npts': 6000, 'sampling_rate': 100.0,'starttime': UTCDateTime(2000, 1, 1),}\n",
    "fs = stats['sampling_rate']\n",
    "generic_start_time = stats['starttime']\n",
    "for i in tqdm(range(len(df))):\n",
    "    dataset = df.iloc[i]\n",
    "    linedata= dtfl.get('data/'+str(dataset['trace_name']))[()]\n",
    "    trace_e = Trace(data=linedata[...,0], header=stats|{'channel':'E'})\n",
    "    trace_n = Trace(data=linedata[...,1], header=stats|{'channel':'N'})\n",
    "    trace_z = Trace(data=linedata[...,2], header=stats|{'channel':'Z'})\n",
    "    st = Stream(traces=[trace_z, trace_n, trace_e])\n",
    "    before_p= 0.5\n",
    "    after_p = 1.0\n",
    "    win_len = after_p + before_p\n",
    "    polarization = polarization_analysis(\n",
    "        st,\n",
    "        win_len = win_len,\n",
    "        win_frac= 1/(win_len*fs) ,\n",
    "        frqlow  = 2 , # < unnecessary for flinn method  \n",
    "        frqhigh = 20, # < unnecessary for flinn method\n",
    "        stime   = generic_start_time + dataset.p_arrival_sample/fs - before_p,\n",
    "        etime   = generic_start_time + dataset.p_arrival_sample/fs + after_p,\n",
    "        method  ='pm'\n",
    "    )\n",
    "\n",
    "    pol = polarization\n",
    "    backazimuth= pol['azimuth'][0]+180\n",
    "    preded_angle.append(backazimuth)\n",
    "    theory_error.append(1- np.cos((backazimuth - dataset.back_azimuth_deg)/180*np.pi))"
   ]
  },
  {
   "cell_type": "code",
   "execution_count": 17,
   "id": "47deb27d",
   "metadata": {
    "scrolled": false
   },
   "outputs": [
    {
     "data": {
      "text/plain": [
       "(array([487., 143., 109., 110., 101., 128., 148., 172., 299., 781.]),\n",
       " array([5.18928765e-07, 2.00000272e-01, 4.00000025e-01, 5.99999777e-01,\n",
       "        7.99999530e-01, 9.99999283e-01, 1.19999904e+00, 1.39999879e+00,\n",
       "        1.59999854e+00, 1.79999829e+00, 1.99999805e+00]),\n",
       " <BarContainer object of 10 artists>)"
      ]
     },
     "execution_count": 17,
     "metadata": {},
     "output_type": "execute_result"
    },
    {
     "data": {
      "image/png": "[encoded data removed]",
      "text/plain": [
       "<Figure size 640x480 with 1 Axes>"
      ]
     },
     "metadata": {},
     "output_type": "display_data"
    }
   ],
   "source": [
    "%matplotlib inline\n",
    "plt.hist(theory_error)"
   ]
  },
  {
   "cell_type": "code",
   "execution_count": 70,
   "id": "49002458",
   "metadata": {},
   "outputs": [
    {
     "data": {
      "image/png": "[encoded data removed]",
      "text/plain": [
       "<Figure size 1200x400 with 1 Axes>"
      ]
     },
     "metadata": {},
     "output_type": "display_data"
    }
   ],
   "source": [
    "plot_angle(df['back_azimuth_deg'].values)"
   ]
  },
  {
   "cell_type": "code",
   "execution_count": 69,
   "id": "f4486d39",
   "metadata": {
    "code_folding": [
     0
    ]
   },
   "outputs": [],
   "source": [
    "def plot_angle(az_list):\n",
    "    az_histgram = np.histogram(az_list,bins=np.arange(0,361,10))\n",
    "    # set figure size\n",
    "    plt.figure(figsize=(12,4))\n",
    "\n",
    "    # plot polar axis\n",
    "    ax = plt.subplot(121, polar=True)\n",
    "\n",
    "    # remove grid\n",
    "    plt.axis('off')\n",
    "\n",
    "    # Set the coordinates limits\n",
    "    upperLimit = az_histgram[0].max()\n",
    "    lowerLimit = az_histgram[0].min()\n",
    "\n",
    "    # Compute max and min in the dataset\n",
    "    max = az_histgram[0].max()\n",
    "\n",
    "    # Let's compute heights: they are a conversion of each item value in those new coordinates\n",
    "    # In our example, 0 in the dataset will be converted to the lowerLimit (10)\n",
    "    # The maximum will be converted to the upperLimit (100)\n",
    "    #heights = np.log10(az_histgram[0])\n",
    "    heights = az_histgram[0]\n",
    "    # Compute the width of each bar. In total we have 2*Pi = 360°\n",
    "    width = 2*np.pi / len(az_histgram[0])\n",
    "\n",
    "    # Compute the angle each bar is centered on:\n",
    "    indexes = list(range(1, len(az_histgram[1][:-1])+1))\n",
    "    angles = [((element-1) * width) +  0.5*np.pi for element in indexes] \n",
    "\n",
    "    # Draw bars\n",
    "    bars = ax.bar(\n",
    "        x=angles, \n",
    "        height=heights, \n",
    "        width=width, \n",
    "        bottom=1,\n",
    "        linewidth=0.5, \n",
    "        edgecolor=\"black\")\n",
    "\n",
    "    # little space between the bar and the label\n",
    "    labelPadding = 30.0\n",
    "\n",
    "    # Add labels\n",
    "    gap = 0\n",
    "    for bar, angle, height, label in zip(bars, angles, heights, az_histgram[1][:-1]):\n",
    "\n",
    "        if gap%2 == 0:\n",
    "            gap += 1\n",
    "        else:\n",
    "            gap += 1\n",
    "            continue\n",
    "\n",
    "\n",
    "        # Labels are rotated. Rotation must be specified in degrees :(\n",
    "        rotation = np.rad2deg(angle)\n",
    "\n",
    "        # Flip some labels upside down\n",
    "        alignment = \"\"\n",
    "        if angle >= np.pi/2 and angle < 3*np.pi/2:\n",
    "            alignment = \"right\"\n",
    "            rotation = rotation + 180\n",
    "        else: \n",
    "            alignment = \"left\"\n",
    "\n",
    "        # Finally add the labels\n",
    "        ax.text(\n",
    "            x=angle, \n",
    "            y= bar.get_height()*1.05, \n",
    "            s=label, \n",
    "            ha=alignment, \n",
    "            va='center', \n",
    "            rotation=rotation, \n",
    "            rotation_mode=\"anchor\",fontsize=14) \n",
    "\n",
    "    plt.title('baz (deg)',fontsize=14)"
   ]
  }
 ],
 "metadata": {
  "kernelspec": {
   "display_name": "local",
   "language": "python",
   "name": "local"
  },
  "language_info": {
   "codemirror_mode": {
    "name": "ipython",
    "version": 3
   },
   "file_extension": ".py",
   "mimetype": "text/x-python",
   "name": "python",
   "nbconvert_exporter": "python",
   "pygments_lexer": "ipython3",
   "version": "3.9.15"
  },
  "toc": {
   "base_numbering": 1,
   "nav_menu": {},
   "number_sections": true,
   "sideBar": true,
   "skip_h1_title": false,
   "title_cell": "Table of Contents",
   "title_sidebar": "Contents",
   "toc_cell": false,
   "toc_position": {},
   "toc_section_display": true,
   "toc_window_display": false
  }
 },
 "nbformat": 4,
 "nbformat_minor": 5
}
